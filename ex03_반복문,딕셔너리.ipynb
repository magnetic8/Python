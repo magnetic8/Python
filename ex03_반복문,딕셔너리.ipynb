{
 "cells": [
  {
   "cell_type": "markdown",
   "id": "618a83ec",
   "metadata": {},
   "source": [
    "###  1. 반복문 사용하기 기초"
   ]
  },
  {
   "cell_type": "code",
   "execution_count": 1,
   "id": "2e27c8ba",
   "metadata": {
    "scrolled": false
   },
   "outputs": [
    {
     "name": "stdout",
     "output_type": "stream",
     "text": [
      "0\n",
      "1\n",
      "2\n",
      "3\n",
      "4\n",
      "5\n",
      "6\n",
      "7\n",
      "8\n",
      "9\n"
     ]
    }
   ],
   "source": [
    "# whlie 문\n",
    "a = 0\n",
    "while a <10 :\n",
    "    print(a)\n",
    "    a += 1"
   ]
  },
  {
   "cell_type": "code",
   "execution_count": 2,
   "id": "7be0f6e6",
   "metadata": {},
   "outputs": [
    {
     "name": "stdout",
     "output_type": "stream",
     "text": [
      "h\n",
      "e\n",
      "l\n",
      "l\n",
      "o\n",
      " \n",
      "m\n",
      "y\n",
      " \n",
      "n\n",
      "a\n",
      "m\n",
      "e\n",
      " \n",
      "i\n",
      "s\n",
      " \n",
      "h\n",
      "e\n",
      "a\n",
      "d\n",
      "o\n"
     ]
    }
   ],
   "source": [
    "# foreach: 반복할 때 인덱스를 직접 제어 x\n",
    "for c in \"hello my name is heado\":\n",
    "    print(c)"
   ]
  },
  {
   "cell_type": "code",
   "execution_count": 3,
   "id": "50fcbcae",
   "metadata": {},
   "outputs": [
    {
     "name": "stdout",
     "output_type": "stream",
     "text": [
      "apple\n",
      "banana\n",
      "orange\n"
     ]
    }
   ],
   "source": [
    "for item in (\"apple\", \"banana\", \"orange\"):\n",
    "    print(item)"
   ]
  },
  {
   "cell_type": "code",
   "execution_count": 4,
   "id": "30e5e42b",
   "metadata": {},
   "outputs": [
    {
     "name": "stdout",
     "output_type": "stream",
     "text": [
      "0 1 2 3 4 5 6 7 8 9 "
     ]
    }
   ],
   "source": [
    "# for문 : 인덱스를 직접 제어\n",
    "# range(시작값,끝값,증가값)\n",
    "for i in range(0,10,1) :\n",
    "    print(i, end=\" \")"
   ]
  },
  {
   "cell_type": "code",
   "execution_count": 5,
   "id": "379c1be6",
   "metadata": {},
   "outputs": [
    {
     "name": "stdout",
     "output_type": "stream",
     "text": [
      "0 1 2 3 4 5 6 7 8 9 "
     ]
    }
   ],
   "source": [
    "#증가값을 생략하면 기본으로 1씩 증가\n",
    "for i in range(0,10) :\n",
    "    print(i, end=\" \")"
   ]
  },
  {
   "cell_type": "code",
   "execution_count": 6,
   "id": "f4399f57",
   "metadata": {},
   "outputs": [
    {
     "name": "stdout",
     "output_type": "stream",
     "text": [
      "0 1 2 3 4 5 6 7 8 9 "
     ]
    }
   ],
   "source": [
    "# 시작값, 증가값을 생략하면 0부터 시작해서 1씩 증가\n",
    "for i in range(10) :\n",
    "    print(i, end=\" \")"
   ]
  },
  {
   "cell_type": "code",
   "execution_count": 8,
   "id": "c921bc1c",
   "metadata": {},
   "outputs": [
    {
     "name": "stdout",
     "output_type": "stream",
     "text": [
      "3*1 = 3\n",
      "3*2 = 6\n",
      "3*3 = 9\n",
      "3*4 = 12\n",
      "3*5 = 15\n",
      "3*6 = 18\n",
      "3*7 = 21\n",
      "3*8 = 24\n",
      "3*9 = 27\n"
     ]
    }
   ],
   "source": [
    "# 실습문제1\n",
    "# 구구단 3단 출력\n",
    "# 3*1 = 3\n",
    "# 3*2 =6\n",
    "#.\n",
    "#.\n",
    "# 3*9 = 27\n",
    "\n",
    "for i in range(1, 10, 1):\n",
    "    a = 3*i\n",
    "    print(f\"{3}*{i} = {a}\")"
   ]
  },
  {
   "cell_type": "code",
   "execution_count": 9,
   "id": "991bbece",
   "metadata": {},
   "outputs": [],
   "source": [
    "# 가장 큰 수 찾기 알고리즘 \n",
    "num_list = [99,56,7,107,34,17]\n",
    "# 출력결과\n",
    "# 가장 큰수는 00이고 00번째에 존재합니다."
   ]
  },
  {
   "cell_type": "code",
   "execution_count": 12,
   "id": "cbe60f8c",
   "metadata": {},
   "outputs": [
    {
     "ename": "NameError",
     "evalue": "name 'num_string' is not defined",
     "output_type": "error",
     "traceback": [
      "\u001b[1;31m---------------------------------------------------------------------------\u001b[0m",
      "\u001b[1;31mNameError\u001b[0m                                 Traceback (most recent call last)",
      "Input \u001b[1;32mIn [12]\u001b[0m, in \u001b[0;36m<cell line: 1>\u001b[1;34m()\u001b[0m\n\u001b[0;32m      3\u001b[0m \u001b[38;5;28mmax\u001b[39m \u001b[38;5;241m<\u001b[39m num_list\n\u001b[0;32m      4\u001b[0m \u001b[38;5;28mmax\u001b[39m \u001b[38;5;241m=\u001b[39m num_list\n\u001b[1;32m----> 5\u001b[0m \u001b[38;5;28mprint\u001b[39m(\u001b[38;5;124mf\u001b[39m\u001b[38;5;124m\"\u001b[39m\u001b[38;5;124m가장 큰수는 \u001b[39m\u001b[38;5;132;01m{\u001b[39;00m\u001b[38;5;28mmax\u001b[39m\u001b[38;5;132;01m}\u001b[39;00m\u001b[38;5;124m이고 \u001b[39m\u001b[38;5;132;01m{\u001b[39;00mnum_string\u001b[38;5;132;01m}\u001b[39;00m\u001b[38;5;124m번째에 존재합니다.\u001b[39m\u001b[38;5;124m\"\u001b[39m)\n",
      "\u001b[1;31mNameError\u001b[0m: name 'num_string' is not defined"
     ]
    }
   ],
   "source": [
    "for num_list in [99,56,7,107,34,17]:\n",
    "    max = 0\n",
    "    max < num_list\n",
    "    max = num_list\n",
    "    print(f\"가장 큰수는 {max}이고 {num_string}번째에 존재합니다.\")\n",
    "    "
   ]
  },
  {
   "cell_type": "code",
   "execution_count": 13,
   "id": "8a81d5ea",
   "metadata": {},
   "outputs": [
    {
     "name": "stdout",
     "output_type": "stream",
     "text": [
      "가장 큰수는 291이고 4번째에 존재합니다.\n"
     ]
    }
   ],
   "source": [
    "# 선생님 풀이\n",
    "num = [99,49,12,23,291,28]\n",
    "j = 0\n",
    "for i in num :\n",
    "    if i>j :\n",
    "        j = i\n",
    "print(f\"가장 큰수는 {j}이고 {num.index(j)}번째에 존재합니다.\")"
   ]
  },
  {
   "cell_type": "code",
   "execution_count": 14,
   "id": "b56cb575",
   "metadata": {},
   "outputs": [
    {
     "ename": "TypeError",
     "evalue": "'int' object is not callable",
     "output_type": "error",
     "traceback": [
      "\u001b[1;31m---------------------------------------------------------------------------\u001b[0m",
      "\u001b[1;31mTypeError\u001b[0m                                 Traceback (most recent call last)",
      "Input \u001b[1;32mIn [14]\u001b[0m, in \u001b[0;36m<cell line: 1>\u001b[1;34m()\u001b[0m\n\u001b[1;32m----> 1\u001b[0m \u001b[38;5;28mprint\u001b[39m(\u001b[38;5;124mf\u001b[39m\u001b[38;5;124m\"\u001b[39m\u001b[38;5;124m가장 큰수는 \u001b[39m\u001b[38;5;132;01m{\u001b[39;00m\u001b[38;5;28mmax\u001b[39m(num)\u001b[38;5;132;01m}\u001b[39;00m\u001b[38;5;124m이고 \u001b[39m\u001b[38;5;132;01m{\u001b[39;00mnum\u001b[38;5;241m.\u001b[39mindex(\u001b[38;5;28mmax\u001b[39m(num))\u001b[38;5;132;01m}\u001b[39;00m\u001b[38;5;124m번째에 존재합니다.\u001b[39m\u001b[38;5;124m\"\u001b[39m)\n",
      "\u001b[1;31mTypeError\u001b[0m: 'int' object is not callable"
     ]
    }
   ],
   "source": [
    "print(f\"가장 큰수는 {max(num)}이고 {num.index(max(num))}번째에 존재합니다.\")"
   ]
  },
  {
   "cell_type": "code",
   "execution_count": 13,
   "id": "67f96b54",
   "metadata": {},
   "outputs": [
    {
     "name": "stdout",
     "output_type": "stream",
     "text": [
      "==================================================\n",
      "1. 시험점수입력 2.성적 확인 3. 종료 :2\n",
      "==================================================\n",
      "이름\tJava\tWeb\tGrade\n",
      "==================================================\n",
      "1. 시험점수입력 2.성적 확인 3. 종료 :1\n",
      "이름 입력:월요일\n",
      "Java 점수 입력:12\n",
      "Web입력:13\n",
      "1. 시험점수입력 2.성적 확인 3. 종료 :14\n",
      "1. 시험점수입력 2.성적 확인 3. 종료 :3\n"
     ]
    }
   ],
   "source": [
    "# 학점관리 시스템을 만드세요.\n",
    "print(\"=\"*50)\n",
    "student_list = [] #전체 학생을 담는 리스트\n",
    "num = 0\n",
    "while num != 3:\n",
    "    num = int(input(\"1. 시험점수입력 2.성적 확인 3. 종료 :\"))\n",
    "    if num ==1 :\n",
    "        name = input(\"이름 입력:\")\n",
    "        Java = int(input(\"Java 점수 입력:\"))\n",
    "        Web = int(input(\"Web입력:\"))\n",
    "        student = [name, Java, Web] # 학생 1명 리스트 \n",
    "        student_list.append(student) # 리스트에 값 추가\n",
    "    elif num == 2:\n",
    "        print(\"=\"*50)\n",
    "        print(\"이름\\tJava\\tWeb\\tGrade\")\n",
    "        print(\"=\"*50)\n",
    "        for st in student_list :\n",
    "            avg = int((st[1]+st[2]/2)) #성적평균\n",
    "            if avg >= 90 :       #grad 90점이상\n",
    "                grade = \"A\"\n",
    "            elif avg >=80 :\n",
    "                grade = \"B\"\n",
    "            elif avg >=70 :\n",
    "                grade = \"C\"\n",
    "            elif avg >=60 :\n",
    "                grade = \"D\"\n",
    "            else :\n",
    "                grade = \"F\"\n",
    "            print(f\"{st[0]}\\t{st[1]}\\t{st[2]}\\t\")"
   ]
  },
  {
   "cell_type": "markdown",
   "id": "c9b17e4d",
   "metadata": {},
   "source": [
    "### 3. 딕셔너리\n",
    "-데이터 탐색이 빠르다는 장점\n",
    "-각 값의 의미를 명확히 파악가능\n",
    "-데이터의 순서x\n",
    "-키 값은 고유해야한다. "
   ]
  },
  {
   "cell_type": "code",
   "execution_count": 19,
   "id": "9c158f27",
   "metadata": {},
   "outputs": [],
   "source": [
    "#딕셔너리 생성\n",
    "#키 값으로는 숫자, 문자, 튜플\n",
    "\n",
    "dict1 = {\"name\":\"홍길동\",\"age\":1000,\"weight\":60}"
   ]
  },
  {
   "cell_type": "code",
   "execution_count": 20,
   "id": "c2b23292",
   "metadata": {},
   "outputs": [
    {
     "name": "stdout",
     "output_type": "stream",
     "text": [
      "홍길동\n",
      "1000\n"
     ]
    }
   ],
   "source": [
    "# 데이터 색인\n",
    "print(dict1[\"name\"])\n",
    "print(dict1[\"age\"])"
   ]
  },
  {
   "cell_type": "code",
   "execution_count": 21,
   "id": "fb159ba1",
   "metadata": {},
   "outputs": [
    {
     "name": "stdout",
     "output_type": "stream",
     "text": [
      "{'name': '홍길동', 'age': 1000, 'weight': 60, 'key': 'value'}\n"
     ]
    }
   ],
   "source": [
    "#데이터 추가\n",
    "dict1[\"key\"]=\"value\"\n",
    "print(dict1)"
   ]
  },
  {
   "cell_type": "code",
   "execution_count": 22,
   "id": "eea9c73b",
   "metadata": {},
   "outputs": [],
   "source": [
    "#데이터 삭제\n",
    "del dict1['key']"
   ]
  },
  {
   "cell_type": "code",
   "execution_count": 23,
   "id": "3f3b8fe1",
   "metadata": {},
   "outputs": [
    {
     "name": "stdout",
     "output_type": "stream",
     "text": [
      "{'name': '홍길동', 'age': 1000, 'weight': 60}\n"
     ]
    }
   ],
   "source": [
    "print(dict1)"
   ]
  },
  {
   "cell_type": "code",
   "execution_count": 24,
   "id": "0789d33a",
   "metadata": {},
   "outputs": [
    {
     "name": "stdout",
     "output_type": "stream",
     "text": [
      "{'name': '홍길동', 'age': 900, 'weight': 60}\n"
     ]
    }
   ],
   "source": [
    "#데이터 수정\n",
    "dict1['age']=900\n",
    "print(dict1)"
   ]
  },
  {
   "cell_type": "code",
   "execution_count": 25,
   "id": "66925ac0",
   "metadata": {},
   "outputs": [
    {
     "data": {
      "text/plain": [
       "dict_keys(['name', 'age', 'weight'])"
      ]
     },
     "execution_count": 25,
     "metadata": {},
     "output_type": "execute_result"
    }
   ],
   "source": [
    "#딕셔너리에서 유용하게 쓰이는 기능\n",
    "dict1.keys() # 딕셔너리의 키 값만 모아서 볼 때"
   ]
  },
  {
   "cell_type": "code",
   "execution_count": 26,
   "id": "39acbcd1",
   "metadata": {},
   "outputs": [
    {
     "data": {
      "text/plain": [
       "dict_values(['홍길동', 900, 60])"
      ]
     },
     "execution_count": 26,
     "metadata": {},
     "output_type": "execute_result"
    }
   ],
   "source": [
    "dict1.values() # 딕셔너리의 value값만 모아서 볼 때"
   ]
  },
  {
   "cell_type": "code",
   "execution_count": 27,
   "id": "181c9cb6",
   "metadata": {},
   "outputs": [
    {
     "data": {
      "text/plain": [
       "900"
      ]
     },
     "execution_count": 27,
     "metadata": {},
     "output_type": "execute_result"
    }
   ],
   "source": [
    "# 데이터를 가져올때\n",
    "dict1.get(\"age\")"
   ]
  },
  {
   "cell_type": "code",
   "execution_count": 28,
   "id": "30cb9983",
   "metadata": {},
   "outputs": [],
   "source": [
    "dict1.get(\"age2\") #없는 키 값은 none이 돌아온다. "
   ]
  },
  {
   "cell_type": "code",
   "execution_count": 29,
   "id": "3ac5ca7c",
   "metadata": {},
   "outputs": [
    {
     "name": "stdout",
     "output_type": "stream",
     "text": [
      "{}\n"
     ]
    }
   ],
   "source": [
    "#딕셔너리의 모든 값 삭제\n",
    "dict1.clear()\n",
    "print(dict1)"
   ]
  },
  {
   "cell_type": "code",
   "execution_count": 30,
   "id": "d14b5d0b",
   "metadata": {},
   "outputs": [],
   "source": [
    "# 딕셔너리를 반복문과 사용하는 경우\n",
    "dict2 = {\"name\":\"홍길동\",\"age\":800,\"weight\":70}"
   ]
  },
  {
   "cell_type": "code",
   "execution_count": 31,
   "id": "30509908",
   "metadata": {},
   "outputs": [
    {
     "name": "stdout",
     "output_type": "stream",
     "text": [
      "name\n",
      "age\n",
      "weight\n"
     ]
    }
   ],
   "source": [
    "for d in dict2 : #반복문과 결합시 key값이 나온다. \n",
    "    print(d)"
   ]
  },
  {
   "cell_type": "code",
   "execution_count": 32,
   "id": "f590d2b8",
   "metadata": {},
   "outputs": [
    {
     "name": "stdout",
     "output_type": "stream",
     "text": [
      "name 홍길동\n",
      "age 800\n",
      "weight 70\n"
     ]
    }
   ],
   "source": [
    "for k,v in dict2.items() :\n",
    "    print(k,v)"
   ]
  },
  {
   "cell_type": "markdown",
   "id": "74f54647",
   "metadata": {},
   "source": [
    "###  4. 집합\n",
    "-중복허용x\n",
    "-데이터의 순서가x"
   ]
  },
  {
   "cell_type": "code",
   "execution_count": 33,
   "id": "0c44e2ac",
   "metadata": {},
   "outputs": [],
   "source": [
    "s1 = set([1,2,3])"
   ]
  },
  {
   "cell_type": "code",
   "execution_count": 34,
   "id": "97d82fdf",
   "metadata": {},
   "outputs": [],
   "source": [
    "s2 = set([3,8,2])"
   ]
  },
  {
   "cell_type": "code",
   "execution_count": 35,
   "id": "2a3da5c4",
   "metadata": {},
   "outputs": [
    {
     "data": {
      "text/plain": [
       "{2, 3}"
      ]
     },
     "execution_count": 35,
     "metadata": {},
     "output_type": "execute_result"
    }
   ],
   "source": [
    "# 교집합\n",
    "s1 & s2"
   ]
  },
  {
   "cell_type": "code",
   "execution_count": 36,
   "id": "14d00d57",
   "metadata": {},
   "outputs": [
    {
     "data": {
      "text/plain": [
       "{1, 2, 3, 8}"
      ]
     },
     "execution_count": 36,
     "metadata": {},
     "output_type": "execute_result"
    }
   ],
   "source": [
    "# 합집합\n",
    "s1 | s2"
   ]
  },
  {
   "cell_type": "code",
   "execution_count": 37,
   "id": "9ad95a3f",
   "metadata": {},
   "outputs": [
    {
     "data": {
      "text/plain": [
       "{8}"
      ]
     },
     "execution_count": 37,
     "metadata": {},
     "output_type": "execute_result"
    }
   ],
   "source": [
    "# 차집합\n",
    "s2-s1"
   ]
  },
  {
   "cell_type": "code",
   "execution_count": null,
   "id": "02d775e0",
   "metadata": {},
   "outputs": [],
   "source": []
  }
 ],
 "metadata": {
  "kernelspec": {
   "display_name": "Python 3 (ipykernel)",
   "language": "python",
   "name": "python3"
  },
  "language_info": {
   "codemirror_mode": {
    "name": "ipython",
    "version": 3
   },
   "file_extension": ".py",
   "mimetype": "text/x-python",
   "name": "python",
   "nbconvert_exporter": "python",
   "pygments_lexer": "ipython3",
   "version": "3.9.12"
  }
 },
 "nbformat": 4,
 "nbformat_minor": 5
}
