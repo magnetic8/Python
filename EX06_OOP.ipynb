{
 "cells": [
  {
   "cell_type": "markdown",
   "id": "c7dcab9d",
   "metadata": {},
   "source": [
    "### 클래스(Class)\n",
    "- 객체의 속성과 행동을 정의하는 설계도"
   ]
  },
  {
   "cell_type": "code",
   "execution_count": 2,
   "id": "4230c53c",
   "metadata": {},
   "outputs": [],
   "source": [
    "class Person :\n",
    "    name = \"\"\n",
    "    age = 0\n",
    "    height = 0\n",
    "    \n",
    "    def eat() :\n",
    "        print(\"먹다\")\n",
    "    \n",
    "    def wakl() :\n",
    "        print(\"걷다\")\n",
    "        "
   ]
  },
  {
   "cell_type": "markdown",
   "id": "be355715",
   "metadata": {},
   "source": [
    "### 객체(Object)\n",
    "- 클래스로부터 실체화된 대상"
   ]
  },
  {
   "cell_type": "code",
   "execution_count": null,
   "id": "4c5cd297",
   "metadata": {},
   "outputs": [],
   "source": [
    "# 객체명 = 클래스명()\n",
    "a = Person()\n",
    "b = Person()\n",
    "c = Person()"
   ]
  },
  {
   "cell_type": "markdown",
   "id": "d0c6ef9d",
   "metadata": {},
   "source": [
    "### 자판기 프로그램"
   ]
  },
  {
   "cell_type": "code",
   "execution_count": null,
   "id": "64e0f815",
   "metadata": {},
   "outputs": [],
   "source": [
    "print(\"=\"*30)\n",
    "print(\"자판기 프로그램\")\n",
    "print(\"=\"*30)\n",
    "money = int(input(\"돈을 넣어주세요 >> \"))\n",
    "choice = int(input(\"1.콜라(500) 2.생수(700) 3.비타민워터(1500) >> \"))\n",
    "if choice == 1 :\n",
    "    money -= 500\n",
    "elif choice == 2 :\n",
    "    money -= 700\n",
    "elif choice == 3 :\n",
    "    money -= 1500\n",
    "if money < 0 :\n",
    "    print(\"돈이 부족합니다.\")\n",
    "else :\n",
    "    print(f\"잔돈 : {money}\")\n",
    "    print(f\"1000원 : {money//1000} 개\")\n",
    "    print(f\"500원 : {money%1000//500} 개\")\n",
    "    print(f\"100원 : {money%1000%500//100} 개\")"
   ]
  },
  {
   "cell_type": "code",
   "execution_count": 69,
   "id": "5ea4c60f",
   "metadata": {},
   "outputs": [],
   "source": [
    "class VendingMachine :\n",
    "    # 생성자\n",
    "    def __init__(self) :\n",
    "        print(\"=\"*30)\n",
    "        print(\"자판기 프로그램\")\n",
    "        print(\"=\"*30)\n",
    "        self.money = 0 # 입력된 돈\n",
    "        self.choice = 0 # 선택된 메뉴\n",
    "    \n",
    "    def inputMoney(self):\n",
    "        self.money = int(input(\"돈을 넣어주세요 >> \"))\n",
    "        \n",
    "    def choiceMenu(self):\n",
    "        self.choice = int(input(\"1.콜라(500) 2.생수(700) 3.비타민워터(1500) >> \"))\n",
    "        \n",
    "    def changeMoney(self):\n",
    "        if self.choice == 1 :\n",
    "            self.money -= 500\n",
    "        elif self.choice == 2 :\n",
    "            self.money -= 700\n",
    "        elif self.choice == 3 :\n",
    "            self.money -= 1500\n",
    "        if self.money < 0 :\n",
    "            print(\"돈이 부족합니다.\")\n",
    "        else :\n",
    "            print(f\"잔돈 : {self.money}\")\n",
    "            print(f\"1000원 : {self.money//1000} 개\")\n",
    "            print(f\"500원 : {self.money%1000//500} 개\")\n",
    "            print(f\"100원 : {self.money%1000%500//100} 개\")"
   ]
  },
  {
   "cell_type": "code",
   "execution_count": 70,
   "id": "4d9c12db",
   "metadata": {},
   "outputs": [
    {
     "name": "stdout",
     "output_type": "stream",
     "text": [
      "==============================\n",
      "자판기 프로그램\n",
      "==============================\n",
      "돈을 넣어주세요 >> 2000\n",
      "1.콜라(500) 2.생수(700) 3.비타민워터(1500) >> 2\n",
      "잔돈 : 1300\n",
      "1000원 : 1 개\n",
      "500원 : 0 개\n",
      "100원 : 3 개\n"
     ]
    }
   ],
   "source": [
    "v1 = VendingMachine() # 자판기 1대 생성\n",
    "v1.inputMoney() # 자판기의 돈 입력 기능 실행\n",
    "v1.choiceMenu() # 자판기의 메뉴선택 기능 실행\n",
    "v1.changeMoney() # 자판기의 잔돈계산 기능 실행"
   ]
  },
  {
   "cell_type": "markdown",
   "id": "d0c26637",
   "metadata": {},
   "source": [
    "### 클래스변수와 인스턴스변수\n",
    "- 클래스 변수: 모든 객체가 공용으로 사용하는 변수\n",
    "- 인스턴스 변수: 각 개체가 개별적으로 사용하는 변수 "
   ]
  },
  {
   "cell_type": "code",
   "execution_count": 27,
   "id": "fe6f598a",
   "metadata": {},
   "outputs": [],
   "source": [
    "class Cat:\n",
    "    #클래스 변수\n",
    "    scientific_name = \"Felis catus\" #학명\n",
    "    \n",
    "    def eat(self, food):\n",
    "        # 인스턴스(객체) 변수\n",
    "        self.hungry = 0\n",
    "        self.scientific_name=\"학명\""
   ]
  },
  {
   "cell_type": "code",
   "execution_count": 28,
   "id": "58dcbc3a",
   "metadata": {},
   "outputs": [],
   "source": [
    "# 인스턴스(객체) 생성\n",
    "cat1 = Cat()\n",
    "cat2 = Cat()"
   ]
  },
  {
   "cell_type": "code",
   "execution_count": 29,
   "id": "97af8142",
   "metadata": {},
   "outputs": [
    {
     "name": "stdout",
     "output_type": "stream",
     "text": [
      "2118838789792\n",
      "2118818959424\n"
     ]
    }
   ],
   "source": [
    "# 객체 주소값\n",
    "print(id(cat1))\n",
    "print(id(cat2))"
   ]
  },
  {
   "cell_type": "code",
   "execution_count": 30,
   "id": "48c78300",
   "metadata": {},
   "outputs": [
    {
     "data": {
      "text/plain": [
       "'Felis catus'"
      ]
     },
     "execution_count": 30,
     "metadata": {},
     "output_type": "execute_result"
    }
   ],
   "source": [
    "# 변수 접근하기\n",
    "# 1. 클래스 변수(클래스명.클래스변수)\n",
    "Cat.scientific_name"
   ]
  },
  {
   "cell_type": "code",
   "execution_count": 31,
   "id": "7898e0c7",
   "metadata": {},
   "outputs": [],
   "source": [
    "# 클래스 변수 수정하기\n",
    "Cat.scientific_name =\"Felis catus입니다.\""
   ]
  },
  {
   "cell_type": "code",
   "execution_count": 32,
   "id": "62d52144",
   "metadata": {},
   "outputs": [
    {
     "data": {
      "text/plain": [
       "'Felis catus입니다.'"
      ]
     },
     "execution_count": 32,
     "metadata": {},
     "output_type": "execute_result"
    }
   ],
   "source": [
    "Cat.scientific_name"
   ]
  },
  {
   "cell_type": "code",
   "execution_count": 33,
   "id": "12807eb3",
   "metadata": {},
   "outputs": [],
   "source": [
    "# 2. 인스턴스 변수(객체명.인스턴스변수)\n",
    "cat1.eat(\"참치\")"
   ]
  },
  {
   "cell_type": "code",
   "execution_count": 34,
   "id": "960886d7",
   "metadata": {},
   "outputs": [
    {
     "data": {
      "text/plain": [
       "0"
      ]
     },
     "execution_count": 34,
     "metadata": {},
     "output_type": "execute_result"
    }
   ],
   "source": [
    "cat1.hungry"
   ]
  },
  {
   "cell_type": "code",
   "execution_count": 35,
   "id": "74b86848",
   "metadata": {},
   "outputs": [
    {
     "data": {
      "text/plain": [
       "100"
      ]
     },
     "execution_count": 35,
     "metadata": {},
     "output_type": "execute_result"
    }
   ],
   "source": [
    "# 인스턴스 변수 수정\n",
    "cat1.hungry = 100\n",
    "cat1.hungry"
   ]
  },
  {
   "cell_type": "code",
   "execution_count": 36,
   "id": "963a1197",
   "metadata": {},
   "outputs": [
    {
     "data": {
      "text/plain": [
       "0"
      ]
     },
     "execution_count": 36,
     "metadata": {},
     "output_type": "execute_result"
    }
   ],
   "source": [
    "cat2.eat(\"츄르\")\n",
    "cat2.hungry"
   ]
  },
  {
   "cell_type": "code",
   "execution_count": 37,
   "id": "ba958ea3",
   "metadata": {},
   "outputs": [
    {
     "name": "stdout",
     "output_type": "stream",
     "text": [
      "학명\n",
      "학명\n"
     ]
    }
   ],
   "source": [
    "# 변수 참조 우선순위(인스턴스 변수 확인 -> 클래스 변수 확인)\n",
    "print(cat1. scientific_name)\n",
    "print(cat2. scientific_name)"
   ]
  },
  {
   "cell_type": "code",
   "execution_count": 38,
   "id": "5cb9a7eb",
   "metadata": {},
   "outputs": [],
   "source": [
    "# 각 인스턴스마다 고유한 인스턴스변수 생성도 가능\n",
    "cat1.color = \"붉은색\""
   ]
  },
  {
   "cell_type": "markdown",
   "id": "600f5db0",
   "metadata": {},
   "source": [
    "### 접근제한, 캡슐화\n",
    "- 캡슐화 : 관련된 data와 logic을 하나의 class로 묶어주는 행위\n",
    "- 장점\n",
    "    - 1. 관련된 데이터와 로직이 묶여서 관리가 편하다. \n",
    "    - 2. 코드간 결합도가 낮아져서 유연한 프로그램이 될 수 있다. \n",
    "    - 3. 데이터를 보호 (접근제한)할 수 있다. "
   ]
  },
  {
   "cell_type": "code",
   "execution_count": 59,
   "id": "6b03cae7",
   "metadata": {},
   "outputs": [],
   "source": [
    "class Cat:\n",
    "    #클래스 변수\n",
    "    scientific_name = \"Felis catus\" #학명\n",
    "    \n",
    "    def eat(self, food):\n",
    "        # 인스턴스(객체) 변수\n",
    "        self.__hungry = 0 # 접근제한\n",
    "        self.scientific_name=\"학명\"\n",
    "        # setter 메소드\n",
    "    def setHungry(self,value) :\n",
    "        if (value >= 0) and (value<=100) :\n",
    "            self.__hungry =value\n",
    "        # getter 메소드\n",
    "    def getHungry(self) :\n",
    "        return self.__hungry"
   ]
  },
  {
   "cell_type": "code",
   "execution_count": 60,
   "id": "49b0842d",
   "metadata": {},
   "outputs": [],
   "source": [
    "cat3 = Cat()"
   ]
  },
  {
   "cell_type": "code",
   "execution_count": 61,
   "id": "874d8b6a",
   "metadata": {},
   "outputs": [],
   "source": [
    "cat3.eat(\"사료\")"
   ]
  },
  {
   "cell_type": "code",
   "execution_count": 62,
   "id": "09faa8bd",
   "metadata": {},
   "outputs": [],
   "source": [
    "cat3.setHungry(1000)"
   ]
  },
  {
   "cell_type": "code",
   "execution_count": 63,
   "id": "e866757f",
   "metadata": {},
   "outputs": [
    {
     "data": {
      "text/plain": [
       "0"
      ]
     },
     "execution_count": 63,
     "metadata": {},
     "output_type": "execute_result"
    }
   ],
   "source": [
    "cat3.getHungry()"
   ]
  },
  {
   "cell_type": "markdown",
   "id": "53fe7818",
   "metadata": {},
   "source": [
    "### 생성자\n",
    "- 객체를 생성할 때 호출하는 메소드\n",
    "- 각 객체에 대한 메모리 공간을 확보\n",
    "- 생성자를 호출하는 문법 : 클래스이름() "
   ]
  },
  {
   "cell_type": "code",
   "execution_count": 64,
   "id": "29f903c3",
   "metadata": {},
   "outputs": [],
   "source": [
    "class Cat:\n",
    "    #클래스 변수\n",
    "    scientific_name = \"Felis catus\" #학명\n",
    "    \n",
    "    def __init__(self,name) : #생성자 호출시 함께 호출되는 메소드 \n",
    "        self.name = name\n",
    "        \n",
    "    def eat(self, food):\n",
    "        # 인스턴스(객체) 변수\n",
    "        self.__hungry = 0 # 접근제한\n",
    "        self.scientific_name=\"학명\"\n",
    "        # setter 메소드\n",
    "    def setHungry(self,value) :\n",
    "        if (value >= 0) and (value<=100) :\n",
    "            self.__hungry =value\n",
    "        # getter 메소드\n",
    "    def getHungry(self) :\n",
    "        return self.__hungry"
   ]
  },
  {
   "cell_type": "code",
   "execution_count": 65,
   "id": "a64f50d7",
   "metadata": {},
   "outputs": [],
   "source": [
    "cat4=Cat(\"찰스\") #생성자를 호출"
   ]
  },
  {
   "cell_type": "code",
   "execution_count": 66,
   "id": "311e6e17",
   "metadata": {},
   "outputs": [
    {
     "data": {
      "text/plain": [
       "'찰스'"
      ]
     },
     "execution_count": 66,
     "metadata": {},
     "output_type": "execute_result"
    }
   ],
   "source": [
    "cat4.name"
   ]
  },
  {
   "cell_type": "code",
   "execution_count": 67,
   "id": "b393c705",
   "metadata": {},
   "outputs": [],
   "source": [
    "cat5=Cat(\"몽몽이\")"
   ]
  },
  {
   "cell_type": "code",
   "execution_count": 68,
   "id": "d25dc59e",
   "metadata": {},
   "outputs": [
    {
     "data": {
      "text/plain": [
       "'몽몽이'"
      ]
     },
     "execution_count": 68,
     "metadata": {},
     "output_type": "execute_result"
    }
   ],
   "source": [
    "cat5.name"
   ]
  },
  {
   "cell_type": "markdown",
   "id": "dd9a0d95",
   "metadata": {},
   "source": [
    "### 고양이 시뮬레이터\n",
    "- 1.고양이 생성, 2. 고양이 먹이주기, 3. 고양이 배만지기\n",
    "- 고양이가 가지는 변수 : 스트레스 지수, 허기짐 \n",
    "- 기능\n",
    "    - 1. 고양이 이름을 지어서 생성\n",
    "    - 2. 스트레스 지수 깎임, 허기짐도 깎임. \n",
    "    - 3. 스트레스지수가 왕창 올라감"
   ]
  },
  {
   "cell_type": "code",
   "execution_count": 75,
   "id": "9bfe2133",
   "metadata": {},
   "outputs": [],
   "source": [
    "class Cat :\n",
    "    # 생성자 (고양이 이름, 스트레스지수, 허기짐 초기화)\n",
    "    def __init__(self,name) :\n",
    "        self.name = name\n",
    "        self.stress = 20\n",
    "        self.hungry = 50\n",
    "        \n",
    "    def eat(self, food) : \n",
    "        if food == \"츄르\" :\n",
    "            self.hungry -= 15\n",
    "            self.stress -=10\n",
    "        elif food == \"사료\" :\n",
    "            self.hungry -= 5\n",
    "        \n",
    "        if self.hungry <= 0 :\n",
    "            print(\"그르르그르를그르릉\")\n",
    "    def touch(self) :\n",
    "        self.stress +=20\n",
    "        \n",
    "        if self.stress >= 100 :\n",
    "            print(\"캬아아아아아아아앜\")"
   ]
  },
  {
   "cell_type": "code",
   "execution_count": 76,
   "id": "7ff5c2b8",
   "metadata": {},
   "outputs": [
    {
     "name": "stdout",
     "output_type": "stream",
     "text": [
      "==============================\n",
      "고양이 시뮬레이터\n",
      "==============================\n",
      "1. 고양이생성 2. 먹이 주기 3. 배 만지기1\n",
      "이름 입력 :냥냥\n",
      "1. 고양이생성 2. 먹이 주기 3. 배 만지기2\n",
      "먹이 입력 :츄르\n",
      "1. 고양이생성 2. 먹이 주기 3. 배 만지기2\n",
      "먹이 입력 :츄르\n",
      "1. 고양이생성 2. 먹이 주기 3. 배 만지기3\n",
      "1. 고양이생성 2. 먹이 주기 3. 배 만지기23\n"
     ]
    }
   ],
   "source": [
    "print(\"=\"*30)\n",
    "print(\"고양이 시뮬레이터\")\n",
    "print(\"=\"*30)\n",
    "while True : \n",
    "    choice = int(input(\"1. 고양이생성 2. 먹이 주기 3. 배 만지기\"))\n",
    "    \n",
    "    if choice == 1 :\n",
    "        name = input(\"이름 입력 :\")\n",
    "        cat6 = Cat(name)\n",
    "    elif choice == 2 :\n",
    "        food = input(\"먹이 입력 :\")\n",
    "        cat6.eat(food)\n",
    "    elif choice == 3 :\n",
    "        cat6.touch()\n",
    "    else :\n",
    "        break\n",
    "\n",
    "cat6 = Cat(\"동동이\")\n",
    "cat6.eat(\"츄르\")\n",
    "cat6.touch()"
   ]
  },
  {
   "cell_type": "markdown",
   "id": "901b44be",
   "metadata": {},
   "source": [
    "### 돼지 저금통 시뮬레이터"
   ]
  },
  {
   "cell_type": "code",
   "execution_count": 4,
   "id": "d7f4f9b0",
   "metadata": {},
   "outputs": [],
   "source": [
    "# 돼지 저금통 설계도\n",
    "class Pig: \n",
    "    def __init__(self,nick) :\n",
    "        self.money = 0\n",
    "        self.nick = nick\n",
    "        \n",
    "        \n",
    "    def deposit(self,inputMoney):\n",
    "        self.money +=inputMoney\n",
    "    def withdraw(self,outputMoney):\n",
    "        self.money -= outputMoney\n",
    "    def showMoney(self):\n",
    "        return self.money"
   ]
  },
  {
   "cell_type": "code",
   "execution_count": 5,
   "id": "4ed83859",
   "metadata": {},
   "outputs": [
    {
     "name": "stdout",
     "output_type": "stream",
     "text": [
      "1.입금 2.출금 3.잔액확인 4.종료1\n",
      "입금할 금액 입력 :12000\n",
      "1.입금 2.출금 3.잔액확인 4.종료2\n",
      "출금할 금액 입력 :2000\n",
      "1.입금 2.출금 3.잔액확인 4.종료3\n",
      "현재 잔액은 10000원 입니다.\n",
      "1.입금 2.출금 3.잔액확인 4.종료4\n"
     ]
    }
   ],
   "source": [
    "# 객체생성\n",
    "pig1 = Pig(\"꿀꿀이\")\n",
    "\n",
    "while True :\n",
    "    choice = int(input(\"1.입금 2.출금 3.잔액확인 4.종료\"))\n",
    "    if choice == 1:\n",
    "        inputMoney = int(input(\"입금할 금액 입력 :\"))\n",
    "        pig1.deposit(inputMoney)\n",
    "    elif choice == 2:\n",
    "        outputMoney = int(input(\"출금할 금액 입력 :\"))\n",
    "        pig1.withdraw(outputMoney)\n",
    "    elif choice == 3:\n",
    "       money = pig1.showMoney()\n",
    "       print(f\"현재 잔액은 {money}원 입니다.\")\n",
    "    else:\n",
    "        break "
   ]
  },
  {
   "cell_type": "markdown",
   "id": "802a9297",
   "metadata": {},
   "source": [
    "### 상속\n",
    "- super(부모)클래스로부터 sub(자식) 클래스에게 변수, 메소드를 물려주는 기법\n",
    "- 코드의 중복성 x, 재 사용성을 높여준다. "
   ]
  },
  {
   "cell_type": "code",
   "execution_count": 6,
   "id": "2f2c40ba",
   "metadata": {},
   "outputs": [],
   "source": [
    "class SuperClass :\n",
    "    def show(self):\n",
    "        print(\"국가 이름:\",self.name)\n",
    "class SubClass(SuperClass):\n",
    "    def __init__(self,name):\n",
    "        self.name = name"
   ]
  },
  {
   "cell_type": "code",
   "execution_count": 7,
   "id": "ce82e99e",
   "metadata": {},
   "outputs": [
    {
     "name": "stdout",
     "output_type": "stream",
     "text": [
      "국가 이름: 대한민국\n"
     ]
    }
   ],
   "source": [
    "sub = SubClass(\"대한민국\")\n",
    "sub.show()"
   ]
  },
  {
   "cell_type": "markdown",
   "id": "3849b5da",
   "metadata": {},
   "source": [
    "### 메소드 오버라이딩\n",
    "- 상속관계에서 부모로부터 물려받은 메소드를 자식에서 재정의하는 것 "
   ]
  },
  {
   "cell_type": "code",
   "execution_count": 10,
   "id": "253119e6",
   "metadata": {},
   "outputs": [],
   "source": [
    "class SuperClass :\n",
    "    def show(self):\n",
    "        print(\"국가 이름:\",self.name)\n",
    "class SubClass(SuperClass):\n",
    "    def __init__(self,name):\n",
    "        self.name = name\n",
    "        \n",
    "    def show(self):\n",
    "        print(\"국가 이름(sub) :\",self.name)\n",
    "        super().show() # 부모로부터 물려받은 메소드 호출"
   ]
  },
  {
   "cell_type": "code",
   "execution_count": 11,
   "id": "ba52bafb",
   "metadata": {},
   "outputs": [
    {
     "name": "stdout",
     "output_type": "stream",
     "text": [
      "국가 이름(sub) : 대한민국\n",
      "국가 이름: 대한민국\n"
     ]
    }
   ],
   "source": [
    "sub = SubClass(\"대한민국\")\n",
    "sub.show()"
   ]
  },
  {
   "cell_type": "code",
   "execution_count": null,
   "id": "b23e00c0",
   "metadata": {},
   "outputs": [],
   "source": []
  },
  {
   "cell_type": "code",
   "execution_count": null,
   "id": "cc6c3ce7",
   "metadata": {},
   "outputs": [],
   "source": []
  }
 ],
 "metadata": {
  "kernelspec": {
   "display_name": "Python 3 (ipykernel)",
   "language": "python",
   "name": "python3"
  },
  "language_info": {
   "codemirror_mode": {
    "name": "ipython",
    "version": 3
   },
   "file_extension": ".py",
   "mimetype": "text/x-python",
   "name": "python",
   "nbconvert_exporter": "python",
   "pygments_lexer": "ipython3",
   "version": "3.9.12"
  }
 },
 "nbformat": 4,
 "nbformat_minor": 5
}
