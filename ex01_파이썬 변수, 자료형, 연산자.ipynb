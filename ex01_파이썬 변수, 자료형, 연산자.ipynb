{
 "cells": [
  {
   "cell_type": "markdown",
   "id": "9debb9c7",
   "metadata": {},
   "source": [
    "### 1.파이썬 변수와 출력"
   ]
  },
  {
   "cell_type": "code",
   "execution_count": 1,
   "id": "7d8055f5",
   "metadata": {},
   "outputs": [
    {
     "name": "stdout",
     "output_type": "stream",
     "text": [
      "10\n"
     ]
    }
   ],
   "source": [
    "a = 10 # 정수를 담은 변수\n",
    "print(a)"
   ]
  },
  {
   "cell_type": "code",
   "execution_count": 2,
   "id": "469cd17d",
   "metadata": {},
   "outputs": [],
   "source": [
    "b = \"hello world!!\""
   ]
  },
  {
   "cell_type": "code",
   "execution_count": 3,
   "id": "f8e99e42",
   "metadata": {},
   "outputs": [
    {
     "name": "stdout",
     "output_type": "stream",
     "text": [
      "hello world!!\n"
     ]
    }
   ],
   "source": [
    "print(b)"
   ]
  },
  {
   "cell_type": "code",
   "execution_count": 4,
   "id": "492c4c0c",
   "metadata": {},
   "outputs": [
    {
     "name": "stdout",
     "output_type": "stream",
     "text": [
      "apple\n"
     ]
    }
   ],
   "source": [
    "a = \"apple\"\n",
    "print(a)"
   ]
  },
  {
   "cell_type": "code",
   "execution_count": 5,
   "id": "f1a261eb",
   "metadata": {},
   "outputs": [
    {
     "data": {
      "text/plain": [
       "3"
      ]
     },
     "execution_count": 5,
     "metadata": {},
     "output_type": "execute_result"
    }
   ],
   "source": [
    "1+2"
   ]
  },
  {
   "cell_type": "code",
   "execution_count": 6,
   "id": "2f01ca40",
   "metadata": {},
   "outputs": [
    {
     "data": {
      "text/plain": [
       "1.25"
      ]
     },
     "execution_count": 6,
     "metadata": {},
     "output_type": "execute_result"
    }
   ],
   "source": [
    "10/8"
   ]
  },
  {
   "cell_type": "code",
   "execution_count": 7,
   "id": "c4a79fc5",
   "metadata": {},
   "outputs": [
    {
     "data": {
      "text/plain": [
       "3"
      ]
     },
     "execution_count": 7,
     "metadata": {},
     "output_type": "execute_result"
    }
   ],
   "source": [
    "10+8\n",
    "5-2"
   ]
  },
  {
   "cell_type": "code",
   "execution_count": 8,
   "id": "59d70e7b",
   "metadata": {},
   "outputs": [
    {
     "name": "stdout",
     "output_type": "stream",
     "text": [
      "18\n",
      "3\n"
     ]
    }
   ],
   "source": [
    "print(10+8)\n",
    "print(5-2) #여러가지 결과를 보고 싶으면 print를 사용"
   ]
  },
  {
   "cell_type": "markdown",
   "id": "76bce81b",
   "metadata": {},
   "source": [
    "### 2.데이터타입"
   ]
  },
  {
   "cell_type": "code",
   "execution_count": 9,
   "id": "b807e7b0",
   "metadata": {},
   "outputs": [
    {
     "name": "stdout",
     "output_type": "stream",
     "text": [
      "{3}\n"
     ]
    }
   ],
   "source": [
    "#숫자형\n",
    "a=10\n",
    "b=3.14\n",
    "#문자열\n",
    "c='안녕하세요'\n",
    "d=\"안녕\"\n",
    "#리스트 : 데이터의 변동이 가능\n",
    "e=[1,2,3,4,5]\n",
    "#튜플 : 데이터 변동이 불가능\n",
    "f=(\"apple\", \"banana\", \"orange\")\n",
    "#딕셔너리\n",
    "g={\"이름\":\"황해도\",\"키\":180}\n",
    "#집합\n",
    "h=set([1,2,3])\n",
    "h2=set([1,2])\n",
    "print(h-h2) #차집합 연산\n",
    "#논리\n",
    "i=True"
   ]
  },
  {
   "cell_type": "markdown",
   "id": "403c7d6b",
   "metadata": {},
   "source": [
    "### 3.문자열 타입"
   ]
  },
  {
   "cell_type": "code",
   "execution_count": 10,
   "id": "cbc2dcd7",
   "metadata": {},
   "outputs": [],
   "source": [
    "s1 = \"python\""
   ]
  },
  {
   "cell_type": "markdown",
   "id": "73a9acca",
   "metadata": {},
   "source": [
    "#### 인덱싱과 슬라이싱\n",
    "- 인덱싱 : 특정 인덱스 위치의 데이터를 가져오는 것\n",
    "- 슬라이싱 : 연속적인 여러 인덱스 위치의 데이터를 가져오는 것"
   ]
  },
  {
   "cell_type": "code",
   "execution_count": 11,
   "id": "b6185a99",
   "metadata": {},
   "outputs": [
    {
     "data": {
      "text/plain": [
       "'y'"
      ]
     },
     "execution_count": 11,
     "metadata": {},
     "output_type": "execute_result"
    }
   ],
   "source": [
    "s1[1]"
   ]
  },
  {
   "cell_type": "code",
   "execution_count": 12,
   "id": "c7cd74e3",
   "metadata": {},
   "outputs": [
    {
     "name": "stdout",
     "output_type": "stream",
     "text": [
      "n\n",
      "y\n",
      "y\n",
      "n\n"
     ]
    }
   ],
   "source": [
    "print(s1[5])\n",
    "print(s1[1])\n",
    "print(s1[-5])\n",
    "print(s1[-1])"
   ]
  },
  {
   "cell_type": "markdown",
   "id": "8654dbe1",
   "metadata": {},
   "source": [
    "슬라이싱 문법\n",
    "[시작인덱스 : 끝인덱스 +1]"
   ]
  },
  {
   "cell_type": "code",
   "execution_count": 13,
   "id": "c16fe602",
   "metadata": {
    "scrolled": true
   },
   "outputs": [
    {
     "name": "stdout",
     "output_type": "stream",
     "text": [
      "yt\n",
      "yth\n"
     ]
    }
   ],
   "source": [
    "print(s1[1:3]) #[시작인덱스:끝인덱스] 끝 인덱스 바로 직전까지만 갖고 옴. 그러므로 1-4로 해야 yth가 나옴\n",
    "print(s1[1:4])"
   ]
  },
  {
   "cell_type": "markdown",
   "id": "f91dd3e6",
   "metadata": {},
   "source": [
    "#### [:끝인덱스+1]"
   ]
  },
  {
   "cell_type": "markdown",
   "id": "39290664",
   "metadata": {},
   "source": [
    ":처음부터 끝인덱스 위치까지 슬라이싱"
   ]
  },
  {
   "cell_type": "code",
   "execution_count": 14,
   "id": "3940ae22",
   "metadata": {},
   "outputs": [
    {
     "name": "stdout",
     "output_type": "stream",
     "text": [
      "pyt\n"
     ]
    }
   ],
   "source": [
    "print(s1[:3])"
   ]
  },
  {
   "cell_type": "markdown",
   "id": "891d80ec",
   "metadata": {},
   "source": [
    "[시작인덱스:]  시작인덱스부터 끝까지 슬라이싱"
   ]
  },
  {
   "cell_type": "code",
   "execution_count": 15,
   "id": "fc4d1bdd",
   "metadata": {},
   "outputs": [
    {
     "name": "stdout",
     "output_type": "stream",
     "text": [
      "thon\n"
     ]
    }
   ],
   "source": [
    "print(s1[2:])"
   ]
  },
  {
   "cell_type": "markdown",
   "id": "42f2dc3b",
   "metadata": {},
   "source": [
    "[:] 처음부터 끝까지 슬라이싱"
   ]
  },
  {
   "cell_type": "code",
   "execution_count": 16,
   "id": "382f4119",
   "metadata": {},
   "outputs": [
    {
     "name": "stdout",
     "output_type": "stream",
     "text": [
      "python\n"
     ]
    }
   ],
   "source": [
    "print(s1[:])"
   ]
  },
  {
   "cell_type": "markdown",
   "id": "bd30de35",
   "metadata": {},
   "source": [
    "### 4. 이스케이프 코드\n",
    "-프로그래밍할때 사용할 수 있도록 미리 정의해둔 문자조합"
   ]
  },
  {
   "cell_type": "code",
   "execution_count": 17,
   "id": "4144225c",
   "metadata": {},
   "outputs": [
    {
     "name": "stdout",
     "output_type": "stream",
     "text": [
      "안녕하세요\n",
      "저는 황해도입니다.\n"
     ]
    }
   ],
   "source": [
    "print(\"안녕하세요\\n저는 황해도입니다.\") #\\n 줄바꿈"
   ]
  },
  {
   "cell_type": "code",
   "execution_count": 18,
   "id": "d241afae",
   "metadata": {},
   "outputs": [
    {
     "name": "stdout",
     "output_type": "stream",
     "text": [
      "사과\t배\t바나나\n"
     ]
    }
   ],
   "source": [
    "print(\"사과\\t배\\t바나나\") # \\t 탭"
   ]
  },
  {
   "cell_type": "code",
   "execution_count": 19,
   "id": "b25a5a8e",
   "metadata": {},
   "outputs": [
    {
     "name": "stdout",
     "output_type": "stream",
     "text": [
      "선생님이 나에게 \"안녕하세요\"라고 말했다.\n"
     ]
    }
   ],
   "source": [
    "print(\"선생님이 나에게 \\\"안녕하세요\\\"라고 말했다.\") # \\\" 큰 따옴표 넣기"
   ]
  },
  {
   "cell_type": "code",
   "execution_count": 20,
   "id": "10563b21",
   "metadata": {
    "scrolled": true
   },
   "outputs": [
    {
     "data": {
      "text/plain": [
       "'\\n안녕하세요\\n저는 황해도입니다.\\n'"
      ]
     },
     "execution_count": 20,
     "metadata": {},
     "output_type": "execute_result"
    }
   ],
   "source": [
    "'''\n",
    "안녕하세요\n",
    "저는 황해도입니다.\n",
    "'''"
   ]
  },
  {
   "cell_type": "code",
   "execution_count": 21,
   "id": "1bcfb0d9",
   "metadata": {},
   "outputs": [
    {
     "data": {
      "text/plain": [
       "'\\n오늘 점심은 \\n뭘까요?\\n'"
      ]
     },
     "execution_count": 21,
     "metadata": {},
     "output_type": "execute_result"
    }
   ],
   "source": [
    "\"\"\"\n",
    "오늘 점심은 \n",
    "뭘까요?\n",
    "\"\"\""
   ]
  },
  {
   "cell_type": "code",
   "execution_count": 22,
   "id": "90ec76fd",
   "metadata": {},
   "outputs": [
    {
     "name": "stdout",
     "output_type": "stream",
     "text": [
      "year :2001\n",
      "day :0331\n",
      "weather :Rainy\n"
     ]
    }
   ],
   "source": [
    "s=\"20010331Rainy\"\n",
    "year=s[0:4]\n",
    "day=s[4:8]\n",
    "weather=s[8:]\n",
    "print(\"year :\" +year)\n",
    "print(\"day :\" +day)\n",
    "print(\"weather :\"+weather)"
   ]
  },
  {
   "cell_type": "markdown",
   "id": "e4f78429",
   "metadata": {},
   "source": [
    "### 5.문자열 포멧팅\n",
    "-문자열에서 변하는 값들을 연결할때 사용하는 문법"
   ]
  },
  {
   "cell_type": "code",
   "execution_count": 23,
   "id": "ec2a4a7b",
   "metadata": {},
   "outputs": [],
   "source": [
    "name = \"황해도\"\n",
    "height = \"180\"\n",
    "weight =\"75\""
   ]
  },
  {
   "cell_type": "code",
   "execution_count": 24,
   "id": "d4a61e6b",
   "metadata": {},
   "outputs": [
    {
     "name": "stdout",
     "output_type": "stream",
     "text": [
      "이름 : 황해도, 키 : 180, 몸무게 : 75\n"
     ]
    }
   ],
   "source": [
    "print(\"이름 : %s, 키 : %s, 몸무게 : %s\" %(name,height,weight))"
   ]
  },
  {
   "cell_type": "code",
   "execution_count": 25,
   "id": "841f6c98",
   "metadata": {},
   "outputs": [
    {
     "name": "stdout",
     "output_type": "stream",
     "text": [
      "정수 : 10, 실수 3.140000\n"
     ]
    }
   ],
   "source": [
    "num = 10\n",
    "pie =3.14\n",
    "print(\"정수 : %d, 실수 %f\" %(num, pie))"
   ]
  },
  {
   "cell_type": "code",
   "execution_count": 26,
   "id": "3aace8c5",
   "metadata": {},
   "outputs": [
    {
     "name": "stdout",
     "output_type": "stream",
     "text": [
      "정수 : 10 실수 : 3.14\n"
     ]
    }
   ],
   "source": [
    "# f포멧팅\n",
    "print(f\"정수 : {num} 실수 : {pie}\")"
   ]
  },
  {
   "cell_type": "markdown",
   "id": "bfc230ea",
   "metadata": {},
   "source": [
    "### 문자열 함수"
   ]
  },
  {
   "cell_type": "code",
   "execution_count": 27,
   "id": "bc8d779f",
   "metadata": {},
   "outputs": [
    {
     "data": {
      "text/plain": [
       "3"
      ]
     },
     "execution_count": 27,
     "metadata": {},
     "output_type": "execute_result"
    }
   ],
   "source": [
    "str1 = \"apple apple orange apple\"\n",
    "str1.count(\"apple\") "
   ]
  },
  {
   "cell_type": "code",
   "execution_count": 28,
   "id": "0e851e71",
   "metadata": {},
   "outputs": [
    {
     "data": {
      "text/plain": [
       "12"
      ]
     },
     "execution_count": 28,
     "metadata": {},
     "output_type": "execute_result"
    }
   ],
   "source": [
    "str1.find(\"orange\")"
   ]
  },
  {
   "cell_type": "code",
   "execution_count": 29,
   "id": "fc8e71e2",
   "metadata": {},
   "outputs": [
    {
     "data": {
      "text/plain": [
       "-1"
      ]
     },
     "execution_count": 29,
     "metadata": {},
     "output_type": "execute_result"
    }
   ],
   "source": [
    "str1.find(\"banana\")"
   ]
  },
  {
   "cell_type": "code",
   "execution_count": 30,
   "id": "c4f9d614",
   "metadata": {},
   "outputs": [
    {
     "data": {
      "text/plain": [
       "'apple is'"
      ]
     },
     "execution_count": 30,
     "metadata": {},
     "output_type": "execute_result"
    }
   ],
   "source": [
    "str2=\"Apple is\"\n",
    "str2.lower()"
   ]
  },
  {
   "cell_type": "code",
   "execution_count": 31,
   "id": "183cfbb3",
   "metadata": {},
   "outputs": [],
   "source": [
    "str3=\"  너무너무 배고파요 밥 주세요  \""
   ]
  },
  {
   "cell_type": "code",
   "execution_count": 32,
   "id": "22767437",
   "metadata": {},
   "outputs": [
    {
     "name": "stdout",
     "output_type": "stream",
     "text": [
      "  너무너무 배고파요 밥 주세요  \n",
      "너무너무 배고파요 밥 주세요\n"
     ]
    }
   ],
   "source": [
    "print(str3)\n",
    "print(str3.strip())"
   ]
  },
  {
   "cell_type": "code",
   "execution_count": 34,
   "id": "86fff817",
   "metadata": {},
   "outputs": [
    {
     "name": "stdout",
     "output_type": "stream",
     "text": [
      "  너무너무 배고파요 간식 주세요  \n",
      "  너무너무 배고파요 밥 주세요  \n"
     ]
    }
   ],
   "source": [
    "print(str3.replace(\"밥\",\"간식\"))\n",
    "print(str3)"
   ]
  },
  {
   "cell_type": "code",
   "execution_count": 35,
   "id": "a29d025f",
   "metadata": {},
   "outputs": [
    {
     "name": "stdout",
     "output_type": "stream",
     "text": [
      "  너무너무 배고파요 간식 주세요  \n"
     ]
    }
   ],
   "source": [
    "str3 = str3.replace(\"밥\",\"간식\")\n",
    "print(str3)"
   ]
  },
  {
   "cell_type": "code",
   "execution_count": 37,
   "id": "bf31bd53",
   "metadata": {},
   "outputs": [
    {
     "name": "stdout",
     "output_type": "stream",
     "text": [
      "['쿠키', ' 사이다', ' 콜라', ' 피자']\n"
     ]
    }
   ],
   "source": [
    "str4 = \"쿠키, 사이다, 콜라, 피자\"\n",
    "result = str4.split(\",\")\n",
    "print(result)"
   ]
  },
  {
   "cell_type": "markdown",
   "id": "4826ce82",
   "metadata": {},
   "source": [
    "### 6. 연산자"
   ]
  },
  {
   "cell_type": "code",
   "execution_count": 1,
   "id": "97e32f92",
   "metadata": {},
   "outputs": [
    {
     "name": "stdout",
     "output_type": "stream",
     "text": [
      "3.3333333333333335\n",
      "1\n",
      "3\n"
     ]
    }
   ],
   "source": [
    "# 산술 연산자\n",
    "num1 = 10\n",
    "num2 = 3\n",
    "print(num1/num2) # 실제 나눗셈\n",
    "print(num1 % num2) # 나머지\n",
    "print(num1 // num2) # 몫"
   ]
  },
  {
   "cell_type": "code",
   "execution_count": 2,
   "id": "7f341bdb",
   "metadata": {},
   "outputs": [
    {
     "name": "stdout",
     "output_type": "stream",
     "text": [
      "8\n",
      "27\n"
     ]
    }
   ],
   "source": [
    "# 지수 연산자\n",
    "print(2 ** 3) #2x2x2\n",
    "print(3 ** 3) #3x3x3"
   ]
  },
  {
   "cell_type": "code",
   "execution_count": 3,
   "id": "712c99e8",
   "metadata": {},
   "outputs": [
    {
     "name": "stdout",
     "output_type": "stream",
     "text": [
      "False\n",
      "True\n"
     ]
    }
   ],
   "source": [
    "# 비교 연산자\n",
    "print(2==3)\n",
    "print(10>7)"
   ]
  },
  {
   "cell_type": "code",
   "execution_count": 4,
   "id": "d9b88a01",
   "metadata": {},
   "outputs": [
    {
     "name": "stdout",
     "output_type": "stream",
     "text": [
      "False\n",
      "True\n",
      "False\n"
     ]
    }
   ],
   "source": [
    "# 논리 연산자\n",
    "print(True and False)\n",
    "print(True or False)\n",
    "print(not True)"
   ]
  },
  {
   "cell_type": "code",
   "execution_count": 9,
   "id": "33126739",
   "metadata": {},
   "outputs": [
    {
     "name": "stdout",
     "output_type": "stream",
     "text": [
      "더하기 결과:10 빼기 결과 :4 곱하기 결과:21 나누기 결과:2.3333333333333335\n",
      "더하기 결과:10\n",
      "빼기 결과:4\n",
      "곱하기 결과:21\n",
      "나누기 결과:2.3333333333333335\n"
     ]
    }
   ],
   "source": [
    "# 1-5. 산술 연산자 예제\n",
    "num1 =7\n",
    "num2 =3\n",
    "a = num1 + num2\n",
    "b = num1 - num2\n",
    "c = num1 * num2\n",
    "d = num1 / num2\n",
    "print(f\"더하기 결과:{a} 빼기 결과 :{b} 곱하기 결과:{c} 나누기 결과:{d}\")\n",
    "\n",
    "print(f\"더하기 결과:{a}\")\n",
    "print(f\"빼기 결과:{b}\")\n",
    "print(f\"곱하기 결과:{c}\")\n",
    "print(f\"나누기 결과:{d}\")\n"
   ]
  },
  {
   "cell_type": "code",
   "execution_count": 13,
   "id": "883e4497",
   "metadata": {},
   "outputs": [
    {
     "name": "stdout",
     "output_type": "stream",
     "text": [
      "결과 확인: 400\n",
      "결과 확인: 100\n"
     ]
    }
   ],
   "source": [
    "# 1-6 산술 연산자 예제\n",
    "# 변수 num 값 중에서 백의 자리 이하를 버리는 코드이다. 만일 변수 num의 값이 456이라면 400이 되고, 111이라면 100이 된다.\n",
    "\n",
    "num = 456\n",
    "print(f\"결과 확인: {num-num%100}\")\n",
    "\n",
    "num = 111\n",
    "print(f\"결과 확인: {num-num%100}\")\n"
   ]
  },
  {
   "cell_type": "code",
   "execution_count": 16,
   "id": "9cdbadec",
   "metadata": {},
   "outputs": [
    {
     "name": "stdout",
     "output_type": "stream",
     "text": [
      "이름을 입력하세요 : 황해도\n",
      "황해도\n"
     ]
    }
   ],
   "source": [
    "# input 사용하기\n",
    "name = input(\"이름을 입력하세요 : \")\n",
    "print(name)"
   ]
  },
  {
   "cell_type": "code",
   "execution_count": 17,
   "id": "fad764eb",
   "metadata": {},
   "outputs": [
    {
     "name": "stdout",
     "output_type": "stream",
     "text": [
      "나이 입력 :10\n"
     ]
    },
    {
     "data": {
      "text/plain": [
       "str"
      ]
     },
     "execution_count": 17,
     "metadata": {},
     "output_type": "execute_result"
    }
   ],
   "source": [
    "age = input(\"나이 입력 :\")\n",
    "type(age) # 데이터 타입확인"
   ]
  },
  {
   "cell_type": "code",
   "execution_count": 18,
   "id": "00d30c6a",
   "metadata": {},
   "outputs": [
    {
     "name": "stdout",
     "output_type": "stream",
     "text": [
      "숫자 입력 :10\n",
      "<class 'str'>\n",
      "<class 'int'>\n"
     ]
    }
   ],
   "source": [
    "num = input(\"숫자 입력 :\")\n",
    "print(type(num))\n",
    "num_int = int(num)\n",
    "print(type(num_int))"
   ]
  },
  {
   "cell_type": "code",
   "execution_count": 21,
   "id": "f22fe2eb",
   "metadata": {},
   "outputs": [
    {
     "name": "stdout",
     "output_type": "stream",
     "text": [
      "정수 입력:2\n",
      "지수 입력:3\n",
      "2의 3승은 8입니다.\n"
     ]
    }
   ],
   "source": [
    "num1 = int(input(\"정수 입력:\"))\n",
    "num2 = int(input(\"지수 입력:\"))\n",
    "print(f\"{num1}의 {num2}승은 {num1 ** num2}입니다.\")"
   ]
  },
  {
   "cell_type": "code",
   "execution_count": 25,
   "id": "2c1142f7",
   "metadata": {},
   "outputs": [
    {
     "name": "stdout",
     "output_type": "stream",
     "text": [
      "농구공 :23\n",
      "필요한 상자의 수 : 4.6\n",
      "농구공 갯수 입력 :33\n",
      "필요한 박스 갯수 : 7\n"
     ]
    }
   ],
   "source": [
    "# 삼항연산자 예제\n",
    "#농구공을 담기 위해 필요한 상자의 개수를 구하시오. \n",
    "#상자 하나에는 농구공이 5개 들어갈 수 있다. 만일 농구공이 23개라면 필요한 상자의 개수는 5개입니다.\n",
    "\n",
    "num1=int(input(\"농구공 :\"))\n",
    "num2 =5\n",
    "num3 = num1/num2\n",
    "[num3+1]if [num1%num2>0] else [num3]\n",
    "\n",
    "print(f\"필요한 상자의 수 : {num3}\")\n",
    "\n",
    "## 선생님 풀이법\n",
    "b = int(input(\"농구공 갯수 입력 :\"))\n",
    "box = b//5 if b%5==0 else b//5+1\n",
    "print(f\"필요한 박스 갯수 : {box}\")"
   ]
  },
  {
   "cell_type": "code",
   "execution_count": 34,
   "id": "46f67025",
   "metadata": {},
   "outputs": [
    {
     "name": "stdout",
     "output_type": "stream",
     "text": [
      "정수 입력:-10\n",
      "-10 음수입니다.\n"
     ]
    }
   ],
   "source": [
    "# 정수를 입력받아 양수, 음수0을 판별하여 다음과 같이 출력하시오. \n",
    "\n",
    "a = int(input(\"정수 입력:\"))\n",
    "if a>0: # 양수\n",
    "    print(f\"{a} 양수입니다.\")\n",
    "elif a == 0: # 0\n",
    "    print(f\"{a} 입니다.\")\n",
    "else: # 음수\n",
    "    print(f\"{a} 음수입니다.\")"
   ]
  },
  {
   "cell_type": "code",
   "execution_count": 42,
   "id": "dfb35b54",
   "metadata": {},
   "outputs": [
    {
     "name": "stdout",
     "output_type": "stream",
     "text": [
      "DB:12\n",
      "전자계산기구조:14\n",
      "OS:13\n",
      "데이터통신:13\n",
      "소프트웨어공학:13\n",
      "불합격입니다.\n"
     ]
    }
   ],
   "source": [
    "# 정보처리기사의 각 과목의 정답개수를 int형 타입의 변수 5개를 선언하고 입력\n",
    "# 한 과목이라도 8개 미만인 경우, 불합격\n",
    "# 총개수가60개 이상이면 합격입니다. \n",
    "\n",
    "a = int(input(\"DB:\"))\n",
    "b = int(input(\"전자계산기구조:\"))\n",
    "c = int(input(\"OS:\"))\n",
    "d = int(input(\"데이터통신:\"))\n",
    "e = int(input(\"소프트웨어공학:\"))\n",
    "sum = a+b+c+d+e\n",
    "if a or b or c or d or e <8: # a<8 and b<8 and c<8 and d<8 and e<8\n",
    "    print(\"불합격입니다.\")\n",
    "elif sum>= 60:\n",
    "    print(\"합격입니다.\")"
   ]
  },
  {
   "cell_type": "code",
   "execution_count": 43,
   "id": "d3ebe308",
   "metadata": {},
   "outputs": [
    {
     "name": "stdout",
     "output_type": "stream",
     "text": [
      "DB:12\n",
      "전자계산기구조:12\n",
      "OS:12\n",
      "데이터통신:12\n",
      "소프트웨어공학:12\n",
      "합격입니다.\n"
     ]
    }
   ],
   "source": [
    "# 선생님 풀이\n",
    "a = int(input(\"DB:\"))\n",
    "b = int(input(\"전자계산기구조:\"))\n",
    "c = int(input(\"OS:\"))\n",
    "d = int(input(\"데이터통신:\"))\n",
    "e = int(input(\"소프트웨어공학:\"))\n",
    "\n",
    "result = a+b+c+d+e # result가 60개 이상 합격\n",
    "if result>= 60 and a>=8 and b>=8 and c>=8 and d>=8 and e>=8 :\n",
    "    print(\"합격입니다.\")\n",
    "else :\n",
    "    print(\"불합격입니다.\")\n"
   ]
  },
  {
   "cell_type": "markdown",
   "id": "a7f84aac",
   "metadata": {},
   "source": [
    "### 7. in, not in\n",
    "-문자열, 리스트, 튜플 등 여러개가 묶인 데이터에 특정 데이터가 존재하는지 확인하는 연산"
   ]
  },
  {
   "cell_type": "code",
   "execution_count": 45,
   "id": "36d5e331",
   "metadata": {},
   "outputs": [
    {
     "name": "stdout",
     "output_type": "stream",
     "text": [
      "True\n",
      "True\n"
     ]
    }
   ],
   "source": [
    "str1 = \"오늘 4교시는 프리트레이닝을 보는 시간입니다.\"\n",
    "print(\"오늘\" in str1)\n",
    "print(\"사과\" not in str1)"
   ]
  },
  {
   "cell_type": "code",
   "execution_count": 46,
   "id": "93233fb0",
   "metadata": {},
   "outputs": [],
   "source": [
    "tmp_list = [1, 10, '사과', \"apple\", 3.14]"
   ]
  },
  {
   "cell_type": "code",
   "execution_count": 48,
   "id": "6a3bfce0",
   "metadata": {},
   "outputs": [
    {
     "name": "stdout",
     "output_type": "stream",
     "text": [
      "True\n"
     ]
    }
   ],
   "source": [
    "print(10 in tmp_list)"
   ]
  },
  {
   "cell_type": "code",
   "execution_count": 50,
   "id": "f8c19dfc",
   "metadata": {},
   "outputs": [
    {
     "name": "stdout",
     "output_type": "stream",
     "text": [
      "들어있습니다.\n"
     ]
    }
   ],
   "source": [
    "# 조건문과 함께 사용하기\n",
    "if \"사과\" in tmp_list:\n",
    "    print('들어있습니다.')"
   ]
  },
  {
   "cell_type": "code",
   "execution_count": 51,
   "id": "4293c8e2",
   "metadata": {},
   "outputs": [
    {
     "name": "stdout",
     "output_type": "stream",
     "text": [
      "검색할 이름을 입력해주세요>>황해도\n",
      "검색성공\n"
     ]
    }
   ],
   "source": [
    "name = [\"황해도\",\"한수진\",\"강성관\",\"박병관\"]\n",
    "input_name = input(\"검색할 이름을 입력해주세요>>\")\n",
    "if input_name in name:\n",
    "    print(\"검색성공\")\n",
    "else :\n",
    "    print(\"검색실패\")"
   ]
  },
  {
   "cell_type": "code",
   "execution_count": 63,
   "id": "b48a9155",
   "metadata": {},
   "outputs": [
    {
     "name": "stdout",
     "output_type": "stream",
     "text": [
      "검색할 문자를 입력해주세요>>i\n",
      "'i'는 3 번 들어 있습니다.\n"
     ]
    }
   ],
   "source": [
    "# 다음과 같이 문자열에 사용자가 입력한 글자가 몇 개 포함되어 있는지 출력하시오. \n",
    "s = \"Hi, My name is Mihee\"\n",
    "input_s = input(\"검색할 문자를 입력해주세요>>\")\n",
    "a = s.count(input_s)\n",
    "if input_s in s :\n",
    "    print(f\"'{input_s}'는 {a} 번 들어 있습니다.\")\n",
    "else :\n",
    "    print(f\"'{input_s}'는 문자열에 들어있지 않습니다.\")"
   ]
  },
  {
   "cell_type": "code",
   "execution_count": 61,
   "id": "acf6c652",
   "metadata": {},
   "outputs": [
    {
     "name": "stdout",
     "output_type": "stream",
     "text": [
      "******************************\n",
      "검색할 문자를 입력해주세요>>i\n",
      "'i'는 3 번 들어 있습니다.\n",
      "******************************\n"
     ]
    }
   ],
   "source": [
    "# 선생님 풀이법\n",
    "\n",
    "s = \"Hi, My name is Mihee\"\n",
    "print(\"*\"*30)\n",
    "text = input(\"검색할 문자를 입력해주세요>>\")\n",
    "if text in s :\n",
    "    print(f\"\\'{text}\\'는 {s.count(text)} 번 들어 있습니다.\")\n",
    "else :\n",
    "    print(f\"\\'{text}\\'는 문자열에 들어있지 않습니다.\")\n",
    "print(\"*\"*30)"
   ]
  }
 ],
 "metadata": {
  "kernelspec": {
   "display_name": "Python 3 (ipykernel)",
   "language": "python",
   "name": "python3"
  },
  "language_info": {
   "codemirror_mode": {
    "name": "ipython",
    "version": 3
   },
   "file_extension": ".py",
   "mimetype": "text/x-python",
   "name": "python",
   "nbconvert_exporter": "python",
   "pygments_lexer": "ipython3",
   "version": "3.9.12"
  }
 },
 "nbformat": 4,
 "nbformat_minor": 5
}
