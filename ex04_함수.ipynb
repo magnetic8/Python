{
 "cells": [
  {
   "cell_type": "markdown",
   "id": "0023ed07",
   "metadata": {},
   "source": [
    "###  함수 정의\n",
    "- 함수의 동작방식을 정리해놓는 것 \n",
    "- def 키워드로 시작"
   ]
  },
  {
   "cell_type": "code",
   "execution_count": 1,
   "id": "d0ff516f",
   "metadata": {},
   "outputs": [],
   "source": [
    "def sumAdd(a,b) :\n",
    "    result = a+b\n",
    "    return result"
   ]
  },
  {
   "cell_type": "markdown",
   "id": "220f6544",
   "metadata": {},
   "source": [
    "### 함수 호출(사용)"
   ]
  },
  {
   "cell_type": "code",
   "execution_count": 3,
   "id": "7d53325f",
   "metadata": {},
   "outputs": [
    {
     "name": "stdout",
     "output_type": "stream",
     "text": [
      "30\n"
     ]
    }
   ],
   "source": [
    "result = sumAdd(10,20)\n",
    "print(result)"
   ]
  },
  {
   "cell_type": "markdown",
   "id": "f7cd3e9f",
   "metadata": {},
   "source": [
    "### 1.함수 연습문제"
   ]
  },
  {
   "cell_type": "code",
   "execution_count": 14,
   "id": "3ab30b95",
   "metadata": {},
   "outputs": [],
   "source": [
    "#더 큰수 찾기\n",
    "def largerNumber(num1,num2):\n",
    "        if num1 >= num2 :\n",
    "            rs = num1\n",
    "        elif num2 >= num1 :\n",
    "            rs = num2\n",
    "     \n",
    "        return rs"
   ]
  },
  {
   "cell_type": "code",
   "execution_count": null,
   "id": "e28e888c",
   "metadata": {},
   "outputs": [],
   "source": [
    "#더 큰수 찾기\n",
    "def largerNumber2(num1,num2):\n",
    "        return num1 if num1>=num2 else num2"
   ]
  },
  {
   "cell_type": "code",
   "execution_count": 15,
   "id": "c2f8c335",
   "metadata": {},
   "outputs": [
    {
     "name": "stdout",
     "output_type": "stream",
     "text": [
      "첫 번째 정수 입력: 12\n",
      "두 번째 정수 입력: 23\n",
      "큰 수 확인 : 23\n"
     ]
    }
   ],
   "source": [
    "#함수 실행\n",
    "num1 = int(input(\"첫 번째 정수 입력: \"))\n",
    "num2 = int(input(\"두 번째 정수 입력: \"))\n",
    "\n",
    "result = largerNumber(num1,num2)\n",
    "print(f\"큰 수 확인 : {result}\")"
   ]
  },
  {
   "cell_type": "code",
   "execution_count": 16,
   "id": "a3fd45e4",
   "metadata": {},
   "outputs": [],
   "source": [
    "# 2개의 정수 base, n을 입력받아 base의 n제곱만큼 값을 반환하는 powerN() 함수를 작성하세요.\n",
    "def powerN(base, N) :\n",
    "    return base ** N"
   ]
  },
  {
   "cell_type": "code",
   "execution_count": 27,
   "id": "945a7be1",
   "metadata": {},
   "outputs": [
    {
     "name": "stdout",
     "output_type": "stream",
     "text": [
      "base 입력: 3\n",
      "N 입력 : 2\n",
      "결과 : 9\n"
     ]
    }
   ],
   "source": [
    "base = int(input(\"base 입력: \"))\n",
    "N = int(input(\"N 입력 : \"))\n",
    "\n",
    "# 함수 호출\n",
    "result = powerN(base,N)\n",
    "print(f\"결과 : {result}\")"
   ]
  },
  {
   "cell_type": "code",
   "execution_count": 28,
   "id": "6e4c0710",
   "metadata": {},
   "outputs": [],
   "source": [
    "# 두 개의 정수와 연산자(+,-)를 입력 받으시오.\n",
    "def cal (num1,num2,op) :\n",
    "    if op == '+':\n",
    "        rs = num1 + num2\n",
    "    elif op == '-':\n",
    "        rs = num1-num2\n",
    "        \n",
    "    return rs"
   ]
  },
  {
   "cell_type": "code",
   "execution_count": 29,
   "id": "94f6bda9",
   "metadata": {},
   "outputs": [
    {
     "name": "stdout",
     "output_type": "stream",
     "text": [
      "첫 번째 정수 입력: 1\n",
      "두 번째 정수 입력: 2\n",
      "연산자 입력(+,-): +\n",
      "결과 확인: 3\n"
     ]
    }
   ],
   "source": [
    "num1 = int(input(\"첫 번째 정수 입력: \"))\n",
    "num2 = int(input(\"두 번째 정수 입력: \"))\n",
    "op = input(\"연산자 입력(+,-): \")\n",
    "\n",
    "#함수 호출\n",
    "result = cal (num1,num2, op)\n",
    "print(f\"결과 확인: {result}\")"
   ]
  },
  {
   "cell_type": "markdown",
   "id": "e963fcd4",
   "metadata": {},
   "source": [
    "### 2. 매개변수를 지정하여 호출하기"
   ]
  },
  {
   "cell_type": "code",
   "execution_count": 30,
   "id": "deba18d4",
   "metadata": {},
   "outputs": [
    {
     "data": {
      "text/plain": [
       "-25"
      ]
     },
     "execution_count": 30,
     "metadata": {},
     "output_type": "execute_result"
    }
   ],
   "source": [
    "cal(n1=25,n2=50,op=\"-\") #함수호출(사용)"
   ]
  },
  {
   "cell_type": "code",
   "execution_count": 36,
   "id": "b1ac78a3",
   "metadata": {},
   "outputs": [
    {
     "data": {
      "text/plain": [
       "-25"
      ]
     },
     "execution_count": 36,
     "metadata": {},
     "output_type": "execute_result"
    }
   ],
   "source": [
    "#이름을 지정해서 인수를 넣으면 순서가 상관없다. \n",
    "cal(num1=25,op=\"-\",num2=50) "
   ]
  },
  {
   "cell_type": "markdown",
   "id": "022b51c9",
   "metadata": {},
   "source": [
    "### 3. 매개변수 값이 몇개인지 정확하지 않을 경우"
   ]
  },
  {
   "cell_type": "code",
   "execution_count": 37,
   "id": "805c99f0",
   "metadata": {},
   "outputs": [],
   "source": [
    "def add_many(*args) :\n",
    "    #print(args)\n",
    "    total = 0\n",
    "    for n in args :\n",
    "        total += n\n",
    "    return total"
   ]
  },
  {
   "cell_type": "code",
   "execution_count": 38,
   "id": "5d5ffba4",
   "metadata": {},
   "outputs": [
    {
     "data": {
      "text/plain": [
       "3"
      ]
     },
     "execution_count": 38,
     "metadata": {},
     "output_type": "execute_result"
    }
   ],
   "source": [
    "add_many(1,2)"
   ]
  },
  {
   "cell_type": "code",
   "execution_count": 39,
   "id": "da0f375e",
   "metadata": {},
   "outputs": [
    {
     "data": {
      "text/plain": [
       "63"
      ]
     },
     "execution_count": 39,
     "metadata": {},
     "output_type": "execute_result"
    }
   ],
   "source": [
    "add_many(1,2,10,50)"
   ]
  },
  {
   "cell_type": "markdown",
   "id": "85638c8c",
   "metadata": {},
   "source": [
    "### 4. 함수에는 return은 한번만 실행가능하다.\n",
    "- return을 사용하는 특수한 경우 : 함수의 종료"
   ]
  },
  {
   "cell_type": "code",
   "execution_count": 40,
   "id": "25259613",
   "metadata": {},
   "outputs": [],
   "source": [
    "def abc() :\n",
    "    return 0\n",
    "    return 1"
   ]
  },
  {
   "cell_type": "code",
   "execution_count": 41,
   "id": "52e71176",
   "metadata": {},
   "outputs": [
    {
     "data": {
      "text/plain": [
       "0"
      ]
     },
     "execution_count": 41,
     "metadata": {},
     "output_type": "execute_result"
    }
   ],
   "source": [
    "abc()"
   ]
  },
  {
   "cell_type": "code",
   "execution_count": 42,
   "id": "7d2b4851",
   "metadata": {},
   "outputs": [],
   "source": [
    "def say_nick(nick) :\n",
    "    if nick == \"바보\" :\n",
    "        return \n",
    "    \n",
    "    print(f\"나의 별명은 {nick}입니다.\")"
   ]
  },
  {
   "cell_type": "code",
   "execution_count": 45,
   "id": "5daddf8f",
   "metadata": {},
   "outputs": [
    {
     "name": "stdout",
     "output_type": "stream",
     "text": [
      "나의 별명은 사과입니다.\n"
     ]
    }
   ],
   "source": [
    "say_nick(\"사과\")"
   ]
  },
  {
   "cell_type": "markdown",
   "id": "b15197cb",
   "metadata": {},
   "source": [
    "### 5. 매개변수 기본값 설정하기"
   ]
  },
  {
   "cell_type": "code",
   "execution_count": 49,
   "id": "dd243697",
   "metadata": {},
   "outputs": [
    {
     "data": {
      "text/plain": [
       "[3, 2, 1]"
      ]
     },
     "execution_count": 49,
     "metadata": {},
     "output_type": "execute_result"
    }
   ],
   "source": [
    "list1 =[1,2,3]\n",
    "list1.sort(reverse=True)\n",
    "list1"
   ]
  },
  {
   "cell_type": "code",
   "execution_count": 46,
   "id": "53faa617",
   "metadata": {},
   "outputs": [],
   "source": [
    "#cal 함수 정의\n",
    "def cal (num1,num2,op=\"+\") :\n",
    "    ''' op는 +가 기본연산 '''\n",
    "    if op == '+':\n",
    "        rs = num1 + num2\n",
    "    elif op == '-':\n",
    "        rs = num1-num2\n",
    "        \n",
    "    return rs"
   ]
  },
  {
   "cell_type": "code",
   "execution_count": 47,
   "id": "5366eb00",
   "metadata": {},
   "outputs": [
    {
     "data": {
      "text/plain": [
       "30"
      ]
     },
     "execution_count": 47,
     "metadata": {},
     "output_type": "execute_result"
    }
   ],
   "source": [
    "cal(10,20)"
   ]
  },
  {
   "cell_type": "markdown",
   "id": "892f9dfa",
   "metadata": {},
   "source": [
    "### 6. 함수 안에서 선언한 변수의 효력 범위\n",
    "- 함수 내부의 변수와 함수 외부의 변수는 서로 별도의 공간이다."
   ]
  },
  {
   "cell_type": "code",
   "execution_count": 50,
   "id": "6e3aa8b7",
   "metadata": {},
   "outputs": [
    {
     "name": "stdout",
     "output_type": "stream",
     "text": [
      "1\n"
     ]
    }
   ],
   "source": [
    "a = 1\n",
    "def vartest(a) :\n",
    "    a =a+1 \n",
    "    \n",
    "vartest(a)\n",
    "print(a)"
   ]
  },
  {
   "cell_type": "code",
   "execution_count": 52,
   "id": "50420e8a",
   "metadata": {},
   "outputs": [
    {
     "name": "stdout",
     "output_type": "stream",
     "text": [
      "2\n"
     ]
    }
   ],
   "source": [
    "a = 1\n",
    "def vartest2() :\n",
    "    global a\n",
    "    a =a+1 \n",
    "    \n",
    "vartest2()\n",
    "print(a)"
   ]
  },
  {
   "cell_type": "markdown",
   "id": "d8d88302",
   "metadata": {},
   "source": [
    "### 7. lambda함수"
   ]
  },
  {
   "cell_type": "code",
   "execution_count": 53,
   "id": "1b3b08c0",
   "metadata": {},
   "outputs": [],
   "source": [
    "#함수 정의\n",
    "add = lambda a, b : a+b "
   ]
  },
  {
   "cell_type": "code",
   "execution_count": 54,
   "id": "a775f5c1",
   "metadata": {},
   "outputs": [
    {
     "data": {
      "text/plain": [
       "3"
      ]
     },
     "execution_count": 54,
     "metadata": {},
     "output_type": "execute_result"
    }
   ],
   "source": [
    "#함수 호출(사용)\n",
    "add(1,2)"
   ]
  },
  {
   "cell_type": "code",
   "execution_count": null,
   "id": "ff73a113",
   "metadata": {},
   "outputs": [],
   "source": []
  },
  {
   "cell_type": "code",
   "execution_count": null,
   "id": "5b52d7bf",
   "metadata": {},
   "outputs": [],
   "source": []
  },
  {
   "cell_type": "code",
   "execution_count": null,
   "id": "334e4860",
   "metadata": {},
   "outputs": [],
   "source": []
  }
 ],
 "metadata": {
  "kernelspec": {
   "display_name": "Python 3 (ipykernel)",
   "language": "python",
   "name": "python3"
  },
  "language_info": {
   "codemirror_mode": {
    "name": "ipython",
    "version": 3
   },
   "file_extension": ".py",
   "mimetype": "text/x-python",
   "name": "python",
   "nbconvert_exporter": "python",
   "pygments_lexer": "ipython3",
   "version": "3.9.12"
  }
 },
 "nbformat": 4,
 "nbformat_minor": 5
}
