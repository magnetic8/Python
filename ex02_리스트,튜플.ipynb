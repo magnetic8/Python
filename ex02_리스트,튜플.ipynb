{
 "cells": [
  {
   "cell_type": "markdown",
   "id": "20abcf4c",
   "metadata": {},
   "source": [
    "### 1.리스트 생성하기"
   ]
  },
  {
   "cell_type": "code",
   "execution_count": 4,
   "id": "4289dab9",
   "metadata": {},
   "outputs": [],
   "source": [
    "a = []\n",
    "b = [1,2,3]\n",
    "c = ['apple', 'banana']\n",
    "d = [1,3.14,'orange']\n",
    "e = [1,2,[3,4,5]]\n",
    "f = [\"a\", \"b\", \"c\",[1,2,[\"d\",\"e\"]]]"
   ]
  },
  {
   "cell_type": "markdown",
   "id": "a02b7cd2",
   "metadata": {},
   "source": [
    "### 2. 인덱싱, 슬라이싱"
   ]
  },
  {
   "cell_type": "code",
   "execution_count": 7,
   "id": "a014b8eb",
   "metadata": {},
   "outputs": [
    {
     "name": "stdout",
     "output_type": "stream",
     "text": [
      "banana\n",
      "banana\n",
      "4\n",
      "d\n",
      "['b', 'c']\n"
     ]
    }
   ],
   "source": [
    "# 인덱싱\n",
    "print(c[1])\n",
    "print(c[-1])\n",
    "print(e[2][1])\n",
    "print(f[3][2][0])\n",
    "\n",
    "#슬라이싱\n",
    "print(f[1:3])"
   ]
  },
  {
   "cell_type": "markdown",
   "id": "85f8c208",
   "metadata": {},
   "source": [
    "### 3. 리스트 길이 확인\n",
    "-len() : 리스트, 튜플, 문자열 등 묶여 있는 데이터의 길이를 확인"
   ]
  },
  {
   "cell_type": "code",
   "execution_count": 13,
   "id": "0236d8bf",
   "metadata": {},
   "outputs": [
    {
     "name": "stdout",
     "output_type": "stream",
     "text": [
      "4\n",
      "5\n",
      "6\n"
     ]
    }
   ],
   "source": [
    "print(len(f))\n",
    "print(len(\"abced\"))\n",
    "print(len((1,2,3,4,5,6)))"
   ]
  },
  {
   "cell_type": "markdown",
   "id": "48846376",
   "metadata": {},
   "source": [
    "### 4. 리스트 연산\n",
    "-더하기, 곱하기"
   ]
  },
  {
   "cell_type": "code",
   "execution_count": 15,
   "id": "4b1909b5",
   "metadata": {},
   "outputs": [
    {
     "data": {
      "text/plain": [
       "[1, 2, 3, 4, 5, 6, 7]"
      ]
     },
     "execution_count": 15,
     "metadata": {},
     "output_type": "execute_result"
    }
   ],
   "source": [
    "#더하기\n",
    "list1 = [1,2,3]\n",
    "list2 = [4,5,6,7]\n",
    "list1 + list2"
   ]
  },
  {
   "cell_type": "code",
   "execution_count": 16,
   "id": "69c00592",
   "metadata": {},
   "outputs": [
    {
     "data": {
      "text/plain": [
       "[1, 2, 3, 1, 2, 3, 1, 2, 3]"
      ]
     },
     "execution_count": 16,
     "metadata": {},
     "output_type": "execute_result"
    }
   ],
   "source": [
    "#곱하기\n",
    "list1 * 3"
   ]
  },
  {
   "cell_type": "markdown",
   "id": "2ca806b2",
   "metadata": {},
   "source": [
    "### 5. 리스트 데이터 수정, 삭제, 추가"
   ]
  },
  {
   "cell_type": "code",
   "execution_count": 18,
   "id": "49149ead",
   "metadata": {},
   "outputs": [
    {
     "name": "stdout",
     "output_type": "stream",
     "text": [
      "['a', 'b', 5, 2, 3]\n",
      "['a', 6, 7, 2, 3]\n"
     ]
    }
   ],
   "source": [
    "list3 = ['a','b',1,2,3]\n",
    "# 수정\n",
    "list3[2] = 5\n",
    "\n",
    "print(list3)\n",
    "\n",
    "list3[1:3] =[6,7]\n",
    "print(list3)"
   ]
  },
  {
   "cell_type": "code",
   "execution_count": 19,
   "id": "327b3b63",
   "metadata": {},
   "outputs": [
    {
     "name": "stdout",
     "output_type": "stream",
     "text": [
      "[6, 7, 2, 3]\n"
     ]
    }
   ],
   "source": [
    "# 삭제\n",
    "del list3[0]\n",
    "print(list3)"
   ]
  },
  {
   "cell_type": "code",
   "execution_count": 21,
   "id": "00a16afb",
   "metadata": {
    "scrolled": true
   },
   "outputs": [
    {
     "name": "stdout",
     "output_type": "stream",
     "text": [
      "[2, 3]\n"
     ]
    }
   ],
   "source": [
    "list3[:2] = []\n",
    "print(list3)"
   ]
  },
  {
   "cell_type": "code",
   "execution_count": 22,
   "id": "81d6d370",
   "metadata": {},
   "outputs": [],
   "source": [
    "# 추가\n",
    "list3.append(\"orange\") # 맨 뒤에 추가\n"
   ]
  },
  {
   "cell_type": "code",
   "execution_count": 23,
   "id": "bdf0afdb",
   "metadata": {
    "scrolled": true
   },
   "outputs": [
    {
     "name": "stdout",
     "output_type": "stream",
     "text": [
      "[2, 3, 'orange']\n"
     ]
    }
   ],
   "source": [
    "print(list3)"
   ]
  },
  {
   "cell_type": "code",
   "execution_count": 25,
   "id": "179316b2",
   "metadata": {},
   "outputs": [],
   "source": [
    "list3.insert(1,\"banana\") #원하는 위치에 추가"
   ]
  },
  {
   "cell_type": "code",
   "execution_count": 26,
   "id": "2bd02c71",
   "metadata": {},
   "outputs": [
    {
     "name": "stdout",
     "output_type": "stream",
     "text": [
      "[2, 'banana', 3, 'orange']\n"
     ]
    }
   ],
   "source": [
    "print(list3)"
   ]
  },
  {
   "cell_type": "markdown",
   "id": "aaa71564",
   "metadata": {},
   "source": [
    "### 6. 그외 추가기능"
   ]
  },
  {
   "cell_type": "code",
   "execution_count": 27,
   "id": "4c23df9b",
   "metadata": {},
   "outputs": [],
   "source": [
    "# 정렬\n",
    "list4 = [10,9,56,7,100,96]\n",
    "list4.sort()"
   ]
  },
  {
   "cell_type": "code",
   "execution_count": 28,
   "id": "e98608be",
   "metadata": {},
   "outputs": [
    {
     "name": "stdout",
     "output_type": "stream",
     "text": [
      "[10, 9, 56, 7, 100, 96]\n"
     ]
    }
   ],
   "source": [
    "print(list4) # 오름차순 정렬"
   ]
  },
  {
   "cell_type": "code",
   "execution_count": 29,
   "id": "218fd179",
   "metadata": {},
   "outputs": [],
   "source": [
    "list4.sort(reverse=True)"
   ]
  },
  {
   "cell_type": "code",
   "execution_count": 30,
   "id": "61513267",
   "metadata": {},
   "outputs": [
    {
     "name": "stdout",
     "output_type": "stream",
     "text": [
      "[100, 96, 56, 10, 9, 7]\n"
     ]
    }
   ],
   "source": [
    "print(list4) # 내림차순 정렬"
   ]
  },
  {
   "cell_type": "code",
   "execution_count": 31,
   "id": "143f60a5",
   "metadata": {},
   "outputs": [],
   "source": [
    "# 뒤집기\n",
    "list5 = [\"a\",1,\"c\",[1,2]]\n",
    "list5.reverse()"
   ]
  },
  {
   "cell_type": "code",
   "execution_count": 32,
   "id": "321727f9",
   "metadata": {},
   "outputs": [
    {
     "name": "stdout",
     "output_type": "stream",
     "text": [
      "[[1, 2], 'c', 1, 'a']\n"
     ]
    }
   ],
   "source": [
    "print(list5)"
   ]
  },
  {
   "cell_type": "code",
   "execution_count": 35,
   "id": "77ee3351",
   "metadata": {},
   "outputs": [
    {
     "name": "stdout",
     "output_type": "stream",
     "text": [
      "1\n",
      "3\n"
     ]
    }
   ],
   "source": [
    "# 원하는 데이터 위치 찾기\n",
    "print(list5.index('c'))\n",
    "print(list5.index('a'))"
   ]
  },
  {
   "cell_type": "code",
   "execution_count": 36,
   "id": "afa6a612",
   "metadata": {},
   "outputs": [
    {
     "name": "stdout",
     "output_type": "stream",
     "text": [
      "a\n"
     ]
    }
   ],
   "source": [
    "# 리스트에서 원하는 데이터를 추출\n",
    "print(list5.pop())"
   ]
  },
  {
   "cell_type": "code",
   "execution_count": 37,
   "id": "b3a28357",
   "metadata": {},
   "outputs": [
    {
     "name": "stdout",
     "output_type": "stream",
     "text": [
      "[[1, 2], 'c', 1]\n"
     ]
    }
   ],
   "source": [
    "print(list5)"
   ]
  },
  {
   "cell_type": "code",
   "execution_count": 38,
   "id": "f14218d4",
   "metadata": {},
   "outputs": [
    {
     "name": "stdout",
     "output_type": "stream",
     "text": [
      "1\n"
     ]
    }
   ],
   "source": [
    "print(list5.pop())"
   ]
  },
  {
   "cell_type": "code",
   "execution_count": 39,
   "id": "8ece7420",
   "metadata": {},
   "outputs": [
    {
     "name": "stdout",
     "output_type": "stream",
     "text": [
      "[[1, 2], 'c']\n"
     ]
    }
   ],
   "source": [
    "print(list5)"
   ]
  },
  {
   "cell_type": "code",
   "execution_count": 40,
   "id": "d3d990b9",
   "metadata": {},
   "outputs": [
    {
     "name": "stdout",
     "output_type": "stream",
     "text": [
      "[1, 2]\n",
      "['c']\n"
     ]
    }
   ],
   "source": [
    "print(list5.pop(0)) # 원하는 위치의 데이터 추출\n",
    "print(list5)"
   ]
  },
  {
   "cell_type": "code",
   "execution_count": 41,
   "id": "6b1edaf4",
   "metadata": {},
   "outputs": [],
   "source": [
    "list5.remove('c') # 데이터 값으로 삭제"
   ]
  },
  {
   "cell_type": "code",
   "execution_count": 42,
   "id": "5a62cbb6",
   "metadata": {},
   "outputs": [
    {
     "name": "stdout",
     "output_type": "stream",
     "text": [
      "[]\n"
     ]
    }
   ],
   "source": [
    "print(list5)"
   ]
  },
  {
   "cell_type": "markdown",
   "id": "771e514d",
   "metadata": {},
   "source": [
    "### 7. 튜플\n",
    "- 리스트는 값의 추가, 수정, 삭제가 가능\n",
    "- 튜플은 변경이 불가능 "
   ]
  },
  {
   "cell_type": "code",
   "execution_count": 44,
   "id": "783d6102",
   "metadata": {},
   "outputs": [],
   "source": [
    "# 튜플 생성\n",
    "a = (1,4,5,6,'a',(7,8))\n",
    "b = (\"apple\", \"banana\")"
   ]
  },
  {
   "cell_type": "code",
   "execution_count": 45,
   "id": "053908fa",
   "metadata": {},
   "outputs": [
    {
     "data": {
      "text/plain": [
       "(1, 4, 5, 6, 'a', (7, 8), 'apple', 'banana')"
      ]
     },
     "execution_count": 45,
     "metadata": {},
     "output_type": "execute_result"
    }
   ],
   "source": [
    "# 튜플 연산\n",
    "a + b"
   ]
  },
  {
   "cell_type": "code",
   "execution_count": 46,
   "id": "24e309d9",
   "metadata": {},
   "outputs": [
    {
     "data": {
      "text/plain": [
       "('apple', 'banana', 'apple', 'banana', 'apple', 'banana')"
      ]
     },
     "execution_count": 46,
     "metadata": {},
     "output_type": "execute_result"
    }
   ],
   "source": [
    "b * 3"
   ]
  },
  {
   "cell_type": "code",
   "execution_count": 49,
   "id": "6fe95460",
   "metadata": {},
   "outputs": [
    {
     "name": "stdout",
     "output_type": "stream",
     "text": [
      "1\n",
      "('apple', 'banana')\n"
     ]
    }
   ],
   "source": [
    "# 인덱싱 슬라이싱\n",
    "print(a[0])\n",
    "print(b[-2:])"
   ]
  },
  {
   "cell_type": "code",
   "execution_count": 50,
   "id": "54736e2f",
   "metadata": {},
   "outputs": [
    {
     "ename": "TypeError",
     "evalue": "'tuple' object doesn't support item deletion",
     "output_type": "error",
     "traceback": [
      "\u001b[1;31m---------------------------------------------------------------------------\u001b[0m",
      "\u001b[1;31mTypeError\u001b[0m                                 Traceback (most recent call last)",
      "Input \u001b[1;32mIn [50]\u001b[0m, in \u001b[0;36m<cell line: 2>\u001b[1;34m()\u001b[0m\n\u001b[0;32m      1\u001b[0m \u001b[38;5;66;03m# 데이터 삭제/수정\u001b[39;00m\n\u001b[1;32m----> 2\u001b[0m \u001b[38;5;28;01mdel\u001b[39;00m a[\u001b[38;5;241m1\u001b[39m]\n",
      "\u001b[1;31mTypeError\u001b[0m: 'tuple' object doesn't support item deletion"
     ]
    }
   ],
   "source": [
    "# 데이터 삭제/수정\n",
    "del a[1]"
   ]
  },
  {
   "cell_type": "code",
   "execution_count": 51,
   "id": "f0ef12db",
   "metadata": {},
   "outputs": [
    {
     "ename": "TypeError",
     "evalue": "'tuple' object does not support item assignment",
     "output_type": "error",
     "traceback": [
      "\u001b[1;31m---------------------------------------------------------------------------\u001b[0m",
      "\u001b[1;31mTypeError\u001b[0m                                 Traceback (most recent call last)",
      "Input \u001b[1;32mIn [51]\u001b[0m, in \u001b[0;36m<cell line: 1>\u001b[1;34m()\u001b[0m\n\u001b[1;32m----> 1\u001b[0m b[\u001b[38;5;241m3\u001b[39m] \u001b[38;5;241m=\u001b[39m \u001b[38;5;124m'\u001b[39m\u001b[38;5;124mbb\u001b[39m\u001b[38;5;124m'\u001b[39m\n",
      "\u001b[1;31mTypeError\u001b[0m: 'tuple' object does not support item assignment"
     ]
    }
   ],
   "source": [
    "b[3] = 'bb'"
   ]
  },
  {
   "cell_type": "code",
   "execution_count": null,
   "id": "697fce4a",
   "metadata": {},
   "outputs": [],
   "source": []
  },
  {
   "cell_type": "code",
   "execution_count": null,
   "id": "93567215",
   "metadata": {},
   "outputs": [],
   "source": []
  }
 ],
 "metadata": {
  "kernelspec": {
   "display_name": "Python 3 (ipykernel)",
   "language": "python",
   "name": "python3"
  },
  "language_info": {
   "codemirror_mode": {
    "name": "ipython",
    "version": 3
   },
   "file_extension": ".py",
   "mimetype": "text/x-python",
   "name": "python",
   "nbconvert_exporter": "python",
   "pygments_lexer": "ipython3",
   "version": "3.9.12"
  }
 },
 "nbformat": 4,
 "nbformat_minor": 5
}
